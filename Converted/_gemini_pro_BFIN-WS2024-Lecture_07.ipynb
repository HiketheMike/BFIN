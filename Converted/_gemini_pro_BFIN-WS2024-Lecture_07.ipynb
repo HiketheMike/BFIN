{
 "cells": [
  {
   "cell_type": "markdown",
   "id": "a8752ac8",
   "metadata": {},
   "source": [
    "\n",
    "***Investments Finance 2 - BFIN***\n",
    "\n",
    "**Dr. Omer Cayirli**\n",
    "\n",
    "Lecturer in Empirical Finance\n",
    "\n",
    "omer.cayirli@vgu.edu.vn\n",
    "\n",
    "---\n",
    "\n",
    "\n",
    "\n",
    "\n"
   ]
  },
  {
   "cell_type": "markdown",
   "id": "48c6959e",
   "metadata": {},
   "source": [
    "## Lecture 07\n",
    "---\n"
   ]
  },
  {
   "cell_type": "markdown",
   "id": "07f0569e",
   "metadata": {},
   "source": [
    "## Outline\n",
    "\n",
    "*   Index Models and The Capital Asset Pricing Model\n",
    "    *   The Single-Index Model\n",
    "    *   The Capital Asset Pricing Model\n",
    "\n",
    "---\n",
    "\n"
   ]
  },
  {
   "cell_type": "markdown",
   "id": "4f8b635b",
   "metadata": {},
   "source": [
    "## A Single-Factor Market\n",
    "\n",
    "*   Advantages\n",
    "    *   Reduces the number of inputs for diversification\n",
    "        *   Suppose your security analysts can thoroughly analyze 50 stocks. This means that your input list will include the following:\n",
    "            n = 50 estimates of expected returns\n",
    "            n = 50 estimates of variances\n",
    "            $(n^2 – n)/2$ = 1,225 estimates of covariances\n",
    "            1,325 total estimates\n",
    "    *   Easier for security analysts to specialize\n",
    "*   Model\n",
    "    $r_i = E(r_i) + \\text{unanticipated surprise}$\n",
    "    $r_i = E(r_i) + \\beta_i m + e_i$\n",
    "\n",
    "---\n",
    "\n"
   ]
  },
  {
   "cell_type": "markdown",
   "id": "3de0f418",
   "metadata": {},
   "source": [
    "## A Single-Factor Market\n",
    "\n",
    "*   Regression equation:\n",
    "    $$R_i(t) = \\alpha_i + \\beta_i R_M(t) + e_i(t)$$\n",
    "*   Expected return-beta relationship:\n",
    "    $$E(R_i) = \\alpha_i + \\beta_i E(R_M)$$\n",
    "*   Variance = Systematic risk + Firm-specific risk:\n",
    "    $$\\sigma_i^2 = \\beta_i^2 \\sigma_M^2 + \\sigma^2(e_i)$$\n",
    "*   Covariance = Product of betas $\\times$ Market risk:\n",
    "    $$\\text{Cov}(r_i, r_j) = \\beta_i \\beta_j \\sigma_M^2$$\n",
    "*   Correlation =\n",
    "    $$\\text{Corr}(r_i, r_j) = \\frac{\\beta_i \\beta_j \\sigma_M^2}{\\sigma_i \\sigma_j} = \\frac{\\beta_i \\sigma_M \\beta_j \\sigma_M}{\\sigma_i \\sigma_M \\sigma_j \\sigma_M}$$\n",
    "    $$= \\text{Corr}(r_i, r_m) \\times \\text{Corr}(r_j, r_m)$$\n",
    "\n",
    "---\n",
    "\n"
   ]
  },
  {
   "cell_type": "markdown",
   "id": "bd8d5399",
   "metadata": {},
   "source": [
    "## A Single-Factor Market\n",
    "\n",
    "*   Some securities will be more sensitive than others to macroeconomic shocks.\n",
    "*   The variance of returns attributable to the marketwide factor is called the systematic risk of the security.\n",
    "*   The index model assumes that firm-specific surprises are mutually uncorrelated:\n",
    "    *   The only source of covariance between any pair of securities is their common dependence on the market return.\n",
    "    $\\text{Cov}(r_i, r_j) = \\beta_i \\beta_j \\sigma_M^2$\n",
    "    $\\text{Corr}(r_i, r_j) = \\text{Corr}(r_i, r_m) \\times \\text{Corr}(r_j, r_m)$\n",
    "\n",
    "---\n",
    "\n"
   ]
  },
  {
   "cell_type": "markdown",
   "id": "85c3ef89",
   "metadata": {},
   "source": [
    "## A Single-Factor Market\n",
    "\n",
    "$$R_i(t) = \\alpha_i + \\beta_i R_M(t) + e_i(t)$$\n",
    "$$E(R_i) = \\alpha_i + \\beta_i E(R_M)$$\n",
    "\n",
    "*   $\\alpha$ is the security's expected excess return when the market excess return is zero. It is the vertical intercept.\n",
    "*   The slope of the line in the figure is the security's beta coefficient, $\\beta_i$.\n",
    "\n",
    "---\n",
    "\n"
   ]
  },
  {
   "cell_type": "markdown",
   "id": "44840c22",
   "metadata": {},
   "source": [
    "## Opportunity Set of Risky Assets\n",
    "\n",
    "The data below describe a three-stock financial market that satisfies the single-index model.\n",
    "\n",
    "| Stock | Capitalization | Beta | Mean Excess Return | Standard Deviation |\n",
    "| :---- | :------------- | :--- | :----------------- | :----------------- |\n",
    "| A     | $3,000          | 1.0  | 10%                | 40%                |\n",
    "| B     | 1,940          | 0.2  | 2                  | 30                 |\n",
    "| C     | 1,360          | 1.7  | 17                 | 50                 |\n",
    "\n",
    "The standard deviation of the market-index portfolio is 25%.\n",
    "a. What is the mean excess return of the index portfolio?\n",
    "b. What is the covariance between stock A and stock B?\n",
    "c. What is the covariance between stock B and the index?\n",
    "d. Break down the variance of stock B into its systematic and firm-specific components.\n",
    "\n",
    "$\\text{Cov}(r_i, r_j) = \\beta_i \\beta_j \\sigma_M^2$\n",
    "$\\sigma_i^2 = \\beta_i^2 \\sigma_M^2 + \\sigma^2(e_i)$\n",
    "\n",
    "---\n",
    "\n"
   ]
  },
  {
   "cell_type": "markdown",
   "id": "55d700dd",
   "metadata": {},
   "source": [
    "## Index Model Regression Equation\n",
    "\n",
    "$$R_i(t) = \\alpha_i + \\beta_i R_{S\\&P500}(t) + e_i(t)$$\n",
    "\n",
    "| | Symbol |\n",
    "| :------------------------------------------------------------------------------------------------------------------------------------------ | :------------------ |\n",
    "| 1. The stock's expected return if the market is neutral, that is, if the market's excess return, $r_M - r_f$, is zero                            | $\\alpha_i$          |\n",
    "| 2. The component of return due to movements in the overall market in any period; $\\beta_i$ is the security's responsiveness to market movements | $\\beta_i(r_M - r_f)$ |\n",
    "| 3. The unexpected component of return in any period due to unexpected events that are relevant only to this security (firm specific)            | $e_i$               |\n",
    "| 4. The variance attributable to the uncertainty of the common macro-economic factor                                                         | $\\beta_i^2 \\sigma_M^2$ |\n",
    "| 5. The variance attributable to firm-specific uncertainty                                                                                   | $\\sigma^2(e_i)$     |\n",
    "\n",
    "---\n",
    "\n"
   ]
  },
  {
   "cell_type": "markdown",
   "id": "227a3e4e",
   "metadata": {},
   "source": [
    "## Index Model Regression Equation\n",
    "\n",
    "$$R_i(t) = \\alpha_i + \\beta_i R_{S\\&P500}(t) + e_i(t)$$\n",
    "\n",
    "---\n",
    "\n"
   ]
  },
  {
   "cell_type": "markdown",
   "id": "b767fe9a",
   "metadata": {},
   "source": [
    "### Regression statistics for Amazon\n",
    "\n",
    "| Regression Statistics |        |\n",
    "| :-------------------- | :----- |\n",
    "| Multiple R            | 0.5351 |\n",
    "| R-Square              | 0.2863 |\n",
    "| Adjusted R-Square     | 0.2742 |\n",
    "| Standard Error        | 0.0686 |\n",
    "| Observations          | 60     |\n",
    "\n",
    "|             | Coefficients | Standard Error | t-statistic | p-value |\n",
    "| :---------- | :----------- | :------------- | :---------- | :------ |\n",
    "| Intercept   | 0.0192       | 0.0093         | 2.0645      | 0.0434  |\n",
    "| Market index| 1.5326       | 0.3150         | 4.8648      | 0.0000  |\n",
    "\n",
    "*   The adjusted R-square corrects for an upward bias in R-square that arises because we use the estimated values of two parameters, the slope (beta) and intercept (alpha), rather than their true, but unobservable, values.\n",
    "*   The standard error of the regression is the standard deviation of the residual, e.\n",
    "    *   Higher the standard errors greater the impact of firm-specific events.\n",
    "\n",
    "---\n",
    "\n"
   ]
  },
  {
   "cell_type": "markdown",
   "id": "c8e77881",
   "metadata": {},
   "source": [
    "## Index Model Regression Equation\n",
    "\n",
    "| Ticker | Company           | Beta   | Alpha  | R-Square | Residual Std Dev | Standard Error Beta | Standard Error Alpha | Adjusted Beta |\n",
    "| :----- | :---------------- | :----- | :----- | :------- | :--------------- | :------------------ | :------------------- | :------------ |\n",
    "| CPB    | Campbell Soup     | 0.247  | 0.001  | 0.012    | 0.064            | 0.292               | 0.009                | 0.498         |\n",
    "| NEM    | Newmont Mining    | 0.430  | 0.005  | 0.011    | 0.117            | 0.538               | 0.016                | 0.620         |\n",
    "| MCD    | McDonald's        | 0.563  | 0.006  | 0.165    | 0.036            | 0.165               | 0.005                | 0.709         |\n",
    "| SBUX   | Starbucks         | 0.581  | 0.004  | 0.112    | 0.046            | 0.212               | 0.006                | 0.721         |\n",
    "| KO     | Coca-Cola         | 0.663  | -0.001 | 0.258    | 0.032            | 0.146               | 0.004                | 0.776         |\n",
    "| UNP    | Union Pacific     | 0.859  | 0.005  | 0.212    | 0.047            | 0.216               | 0.006                | 0.906         |\n",
    "| PFE    | Pfizer            | 0.895  | -0.000 | 0.367    | 0.033            | 0.153               | 0.005                | 0.930         |\n",
    "| XOM    | ExxonMobil        | 0.920  | -0.006 | 0.342    | 0.036            | 0.166               | 0.005                | 0.946         |\n",
    "| MSFT   | Microsoft         | 0.923  | 0.012  | 0.193    | 0.054            | 0.246               | 0.007                | 0.948         |\n",
    "| INTC   | Intel             | 0.934  | 0.007  | 0.187    | 0.055            | 0.254               | 0.007                | 0.956         |\n",
    "| GOOG   | Alphabet (Google) | 0.960  | 0.008  | 0.209    | 0.053            | 0.243               | 0.007                | 0.973         |\n",
    "| DIS    | Walt Disney       | 1.288  | -0.001 | 0.496    | 0.037            | 0.169               | 0.005                | 1.192         |\n",
    "| BAC    | Bank of America   | 1.357  | 0.003  | 0.270    | 0.063            | 0.291               | 0.009                | 1.238         |\n",
    "| BA     | Boeing            | 1.368  | 0.011  | 0.330    | 0.055            | 0.254               | 0.007                | 1.246         |\n",
    "| AMZN   | Amazon            | 1.533  | 0.019  | 0.286    | 0.069            | 0.315               | 0.009                | 1.355         |\n",
    "| MRO    | Marathon Oil      | 2.632  | -0.023 | 0.314    | 0.110            | 0.506               | 0.015                | 2.088         |\n",
    "|        |                   |        |        |          |                  |                     |                      |               |\n",
    "| AVERAGE|                   | 1.010  | 0.003  | 0.235    | 0.057            | 0.260               | 0.008                | 1.006         |\n",
    "| STD DEVIATION |          | 0.560  | 0.009  | 0.127    | 0.025            | 0.115               | 0.003                | 0.374         |\n",
    "\n",
    "---\n",
    "\n"
   ]
  },
  {
   "cell_type": "markdown",
   "id": "3d7c7a7f",
   "metadata": {},
   "source": [
    "## Index Model Regression Equation\n",
    "\n",
    "---\n",
    "\n"
   ]
  },
  {
   "cell_type": "markdown",
   "id": "1547a82b",
   "metadata": {},
   "source": [
    "### A. Weights in Optimal Risky Portfolio\n",
    "\n",
    "|                   | Index Model | Full-Covariance Model |\n",
    "| :---------------- | :---------- | :-------------------- |\n",
    "| Market index      | 0.82        | 0.90                  |\n",
    "| WMT (Walmart)     | 0.13        | 0.17                  |\n",
    "| TGT (Target)      | -0.07       | -0.14                 |\n",
    "| VZ (Verizon)      | -0.05       | -0.18                 |\n",
    "| T (AT&T)          | 0.10        | 0.19                  |\n",
    "| F (Amazon)        | 0.07        | 0.08                  |\n",
    "| GM (General Motors)| 0.01        | -0.03                 |\n",
    "\n",
    "---\n",
    "\n"
   ]
  },
  {
   "cell_type": "markdown",
   "id": "71bb7b91",
   "metadata": {},
   "source": [
    "### B. Portfolio Characteristics\n",
    "\n",
    "|                   | Index Model | Full-Covariance Model |\n",
    "| :---------------- | :---------- | :-------------------- |\n",
    "| Risk premium      | 0.0605      | 0.0639                |\n",
    "| Standard deviation| 0.1172      | 0.1238                |\n",
    "| Sharpe ratio      | 0.5165      | 0.5163                |\n",
    "\n",
    "*   Is the index model inferior to the full-blown Markowitz model?\n",
    "    *   It imposes additional assumptions that may not be fully accurate.\n",
    "    *   The Markowitz model allows far more flexibility in modeling asset covariance structure.\n",
    "    *   Estimating the covariances with a sufficient degree of accuracy is an issue.\n",
    "\n",
    "---\n",
    "\n"
   ]
  },
  {
   "cell_type": "markdown",
   "id": "28b806f3",
   "metadata": {},
   "source": [
    "## The Capital Asset Pricing Model\n",
    "\n",
    "*   Portfolio Theory vs. CAPM\n",
    "    *   Mean-Variance Analysis\n",
    "        *   Tells us how to select a portfolio given expected returns, variances, and covariances.\n",
    "        *   Does not tell us anything about what prices should be.\n",
    "    *   CAPM\n",
    "        *   An equilibrium model that characterizes risk-return combinations of securities that occur when investors are mean-variance optimizers.\n",
    "        *   The term equilibrium refers to a situation where no investor wants to do anything differently.\n",
    "        *   It is the equilibrium model that underlies all modern financial theory.\n",
    "\n",
    "---\n",
    "\n"
   ]
  },
  {
   "cell_type": "markdown",
   "id": "2d67b969",
   "metadata": {},
   "source": [
    "## The Capital Asset Pricing Model\n",
    "\n",
    "*   The CAPM can be derived by asking the question:\n",
    "    *   If everybody in the economy holds an efficient portfolio, what do prices need to be so that markets clear?\n",
    "    *   Suppose that based on the prices/expected returns our model comes up with, we find that IBM does not enter into any maximizing investor's portfolio.\n",
    "        *   Then IBM must be priced too high\n",
    "        *   Since nobody will hold IBM shares at that price, the price will fall to a point where the aggregate demand of investors equals the number of IBM shares outstanding.\n",
    "\n",
    "---\n",
    "\n"
   ]
  },
  {
   "cell_type": "markdown",
   "id": "4dce78c5",
   "metadata": {},
   "source": [
    "## The Capital Asset Pricing Model\n",
    "\n",
    "*   Modern Portfolio Theory tells us that every investor holds a combination of just two portfolios\n",
    "    *   The risk-free asset\n",
    "    *   The tangency portfolio\n",
    "*   Thus, the tangency portfolio must be the market portfolio\n",
    "    *   The market portfolio consists of all risky assets held in proportion to their market value\n",
    "    *   Stocks, bonds, real estate, human capital, etc.\n",
    "\n",
    "---\n",
    "\n"
   ]
  },
  {
   "cell_type": "markdown",
   "id": "831483c1",
   "metadata": {},
   "source": [
    "## The Capital Asset Pricing Model\n",
    "\n",
    "*   The CAPM Assumptions\n",
    "    *   All investors are rational mean-variance optimizers with identical planning horizons.\n",
    "    *   Investors can borrow or lend any amount at a fixed, risk-free rate.\n",
    "    *   Perfect competition: no individual investor can affect security prices.\n",
    "    *   All assets are tradable and perfectly divisible.\n",
    "    *   No taxes, transaction costs, or short-sale constraints.\n",
    "    *   Investors have homogeneous expectations.\n",
    "        *   They agree on the estimates of expected returns, variances, and covariances.\n",
    "\n",
    "---\n",
    "\n"
   ]
  },
  {
   "cell_type": "markdown",
   "id": "76e30a2d",
   "metadata": {},
   "source": [
    "## The Capital Asset Pricing Model\n",
    "\n",
    "*   The CAPM –Main Result\n",
    "    $$E[R_i] = r_f + \\beta_i \\times (E[R_{Mkt}] - r_f)$$\n",
    "    Risk premium for security i\n",
    "    Volatility of i that is common with the market\n",
    "    $$\\beta_i = \\frac{\\text{SD}(R_i) \\times \\text{Corr}(R_i, R_{Mkt})}{\\text{SD}(R_{Mkt})} = \\frac{\\text{Cov}(R_i, R_{Mkt})}{\\text{Var}(R_{Mkt})}$$\n",
    "*   Security Market Line (SML)\n",
    "    *   Plots the expected return of assets against their beta.\n",
    "    *   The CAPM states that all assets must be on the SML.\n",
    "*   SML vs CML\n",
    "    *   SML\n",
    "        *   Shows systematic risk only\n",
    "        *   Every security / portfolio lies on the SML\n",
    "    *   CML\n",
    "        *   Shows the total risk (systematic + unsystematic)\n",
    "        *   Only two securities lie on the CML\n",
    "            *   Risk-free asset and the market portfolio\n",
    "\n",
    "---\n",
    "\n"
   ]
  },
  {
   "cell_type": "markdown",
   "id": "ddacee04",
   "metadata": {},
   "source": [
    "## The Capital Asset Pricing Model\n",
    "\n",
    "---\n",
    "\n"
   ]
  },
  {
   "cell_type": "markdown",
   "id": "3c8f57ec",
   "metadata": {},
   "source": [
    "### A: The Efficient Frontier of Risky Assets with the Optimal CAL\n",
    "\n",
    "---\n",
    "\n"
   ]
  },
  {
   "cell_type": "markdown",
   "id": "71e5851f",
   "metadata": {},
   "source": [
    "### B: The Efficient Frontier and the Capital Market Line\n",
    "\n",
    "---\n",
    "\n"
   ]
  },
  {
   "cell_type": "markdown",
   "id": "04db88b4",
   "metadata": {},
   "source": [
    "## The Capital Asset Pricing Model\n",
    "\n",
    "---\n",
    "\n"
   ]
  },
  {
   "cell_type": "markdown",
   "id": "5321a2e3",
   "metadata": {},
   "source": [
    "## The Capital Asset Pricing Model\n",
    "\n",
    "*   The risk premium on the market portfolio is proportional to its risk and the degree of risk aversion:\n",
    "    $$E(R_M) = \\bar{A} \\sigma_M^2$$\n",
    "    *   An individual security's risk premium is a function of:\n",
    "        *   Its contribution to the risk of the market portfolio\n",
    "        *   The covariance of returns with the assets that make up the market portfolio\n",
    "    $$\\sum_{i=1}^{n} w_i \\text{Cov}(R_i, R_{GE}) = \\text{Cov}\\left(\\sum_{i=1}^{n} w_i R_i, R_{GE}\\right)$$\n",
    "    $$\\frac{\\text{GE's contribution to risk premium}}{\\text{GE's contribution to variance}} = \\frac{w_{GE} E(R_{GE})}{w_{GE} \\text{Cov}(R_{GE}, R_M)} = \\frac{E(R_{GE})}{\\text{Cov}(R_{GE}, R_M)}$$\n",
    "    $$\\frac{\\text{Market risk premium}}{\\text{Market variance}} = \\frac{E(R_M)}{\\sigma^2(R_M)}$$\n",
    "    $$E(R_{GE}) = \\frac{\\text{Cov}(R_{GE}, R_M)}{\\sigma^2(R_M)} E(R_M)$$\n",
    "    $$E(r_{GE}) = r_f + \\beta_{GE}[E(r_M) - r_f]$$\n",
    "    Expected return-beta relationship\n",
    "\n",
    "---\n",
    "\n"
   ]
  },
  {
   "cell_type": "markdown",
   "id": "3bebc1b7",
   "metadata": {},
   "source": [
    "## The Capital Asset Pricing Model\n",
    "\n",
    "*   CAPM holds for the overall portfolio because:\n",
    "    $$E(r_P) = \\sum_k w_k E(r_k)$$\n",
    "    $$\\beta_P = \\sum_k w_k \\beta_k$$\n",
    "*   This also holds for the market portfolio:\n",
    "    $$E(r_M) = r_f + \\beta_M [E(r_M) - r_f]$$\n",
    "\n",
    "---\n",
    "\n"
   ]
  },
  {
   "cell_type": "markdown",
   "id": "246d5c27",
   "metadata": {},
   "source": [
    "## The Capital Asset Pricing Model\n",
    "\n",
    "*   An asset that is not priced according to the CAPM will not line up on the SML.\n",
    "*   The difference between its actual risk premium and its risk premium predicted by the CAPM is called the asset's alpha:\n",
    "    $$E(r_i) - r_f = \\alpha_i + \\beta_i[E(r_M) - r_f]$$\n",
    "\n",
    "---\n",
    "\n"
   ]
  },
  {
   "cell_type": "markdown",
   "id": "2b932d4e",
   "metadata": {},
   "source": [
    "## The Capital Asset Pricing Model\n",
    "\n",
    "*   The Equity Cost of Capital\n",
    "    *   Best expected return available in the market on investments with similar risk.\n",
    "    *   Under the CAPM?\n",
    "        *   Investments have similar risk if they have the same sensitivity to market risk, as measured by their beta with the market portfolio.\n",
    "*   The Market Portfolio\n",
    "    *   Value-weighted vs. equal-weighted\n",
    "    *   S&P 500, DJIA, NDQ, S&P 1500 Composite, Russel 2000, Wilshire 5000.\n",
    "*   The Market Risk Premium\n",
    "    *   Risk-Free Rate\n",
    "        *   Maturity vs. investment horizon\n",
    "    *   The Risk Premium\n",
    "        *   Historical\n",
    "        *   Expected\n",
    "\n",
    "| Period                    |               |\n",
    "| :------------------------ | :------------ |\n",
    "| S&P 500 Excess Return Versus | 1926–2015 | 1965–2015 |\n",
    "| One-year Treasury         | 7.7%          | 5.0%      |\n",
    "| Ten-year Treasury*        | 5.9%          | 3.9%      |\n",
    "\n",
    "---\n",
    "\n"
   ]
  },
  {
   "cell_type": "markdown",
   "id": "76e5793d",
   "metadata": {},
   "source": [
    "## The Capital Asset Pricing Model\n",
    "\n",
    "*   Beta Estimation\n",
    "    *   Using Historical Returns\n",
    "        *   What is the assumption?\n",
    "    *   Best-fitting line\n",
    "        *   Beta corresponds to the slope of the best-fitting line in the plot of the security's excess returns vs. the market excess return.\n",
    "    *   Linear Regression\n",
    "    $$ (R_i - r_f) = \\alpha_i + \\beta_i(R_M - r_f) + e_i $$\n",
    "\n",
    "---\n",
    "\n"
   ]
  },
  {
   "cell_type": "markdown",
   "id": "d94bcb43",
   "metadata": {},
   "source": [
    "## The Capital Asset Pricing Model\n",
    "\n",
    "---\n",
    "\n"
   ]
  },
  {
   "cell_type": "markdown",
   "id": "a48b504a",
   "metadata": {},
   "source": [
    "## The Capital Asset Pricing Model\n",
    "\n",
    "*   Historical Betas\n",
    "    $$r_{i,t}^e = \\alpha_i + \\beta_i r_{M,t}^e + \\epsilon_{i,t}$$\n",
    "    $$\\text{S.E.}(\\hat{\\beta}_i) = \\frac{\\sqrt{1-R^2}}{\\sqrt{T}} \\frac{\\hat{\\sigma}_i}{\\hat{\\sigma}_M}$$\n",
    "*   The precision of an OLS beta estimate can be increased by\n",
    "    *   Increasing the number of observations (T),\n",
    "    *   By using portfolios instead of individual securities,\n",
    "    *   By increasing the frequency of return observations\n",
    "\n",
    "---\n",
    "\n"
   ]
  },
  {
   "cell_type": "markdown",
   "id": "5c84aa3d",
   "metadata": {},
   "source": [
    "## The Capital Asset Pricing Model\n",
    "\n",
    "*   Should idiosyncratic risk matter for pricing?\n",
    "*   Would you ever buy a stock with negative expected returns?\n",
    "*   How do the betas add up?\n",
    "*   Can you arbitrage stocks that are on the SML?\n",
    "*   Can you arbitrage stocks that are not on the SML?\n",
    "\n",
    "---\n",
    "\n"
   ]
  },
  {
   "cell_type": "markdown",
   "id": "d0b54a7a",
   "metadata": {},
   "source": [
    "### What is next?\n",
    "\n",
    "*   Multifactor Models\n",
    "*   Arbitrage Pricing Theory\n",
    "*   Reading(s): BKM Ch. 10\n",
    "*   Suggested Problems\n",
    "    *   Ch.8: 6, 9-12\n",
    "    *   Ch.9: 2, 4, 8, 17-19, 21.\n",
    "    *   Ch.9-CFA Problems: 1-2, 8-9,12.\n",
    "\n",
    "---\n"
   ]
  }
 ],
 "metadata": {
  "kernelspec": {
   "display_name": "universal",
   "language": "python",
   "name": "python3"
  },
  "language_info": {
   "name": "python",
   "version": "3.12.9"
  }
 },
 "nbformat": 4,
 "nbformat_minor": 5
}
