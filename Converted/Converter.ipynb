{
 "cells": [
  {
   "cell_type": "code",
   "execution_count": null,
   "id": "94b0a7cb",
   "metadata": {},
   "outputs": [
    {
     "name": "stdout",
     "output_type": "stream",
     "text": [
      "Converted 11 markdown files to Jupyter Notebooks.\n"
     ]
    }
   ],
   "source": [
    "import nbformat as nbf\n",
    "import glob\n",
    "import re\n",
    "\n",
    "def markdown_to_notebook(input_md_file, output_ipynb_file):\n",
    "    \"\"\"\n",
    "    Converts a single markdown file into a Jupyter notebook,\n",
    "    splitting cells by '##' or '###' headings and ending each cell with '---'.\n",
    "    \"\"\"\n",
    "    nb = nbf.v4.new_notebook()\n",
    "    \n",
    "    with open(input_md_file, 'r', encoding='utf-8') as f:\n",
    "        markdown_content = f.read()\n",
    "\n",
    "    # Split the markdown content by lines\n",
    "    lines = markdown_content.splitlines()\n",
    "    \n",
    "    cells_content = []\n",
    "    current_cell_lines = []\n",
    "\n",
    "    for line in lines:\n",
    "        # Check if the line starts with a '##' or '###' heading\n",
    "        if re.match(r'^(#){2,3}\\s', line.strip()):\n",
    "            if current_cell_lines:\n",
    "                # If there's content in the current cell, save it before starting a new one\n",
    "                cells_content.append(\"\\n\".join(current_cell_lines).strip() + \"\\n\\n---\\n\\n\")\n",
    "                current_cell_lines = [] # Start a new cell\n",
    "            current_cell_lines.append(line)\n",
    "        else:\n",
    "            current_cell_lines.append(line)\n",
    "    \n",
    "    # Add the last cell's content\n",
    "    if current_cell_lines:\n",
    "        cells_content.append(\"\\n\".join(current_cell_lines).strip() + \"\\n---\\n\")\n",
    "\n",
    "    # Create notebook cells from the collected content\n",
    "    cells = [nbf.v4.new_markdown_cell(content) for content in cells_content if content.strip()]\n",
    "    \n",
    "    nb['cells'] = cells\n",
    "    \n",
    "    with open(output_ipynb_file, 'w', encoding='utf-8') as f:\n",
    "        nbf.write(nb, f)\n",
    "\n",
    "\n",
    "input_md_files = glob.glob('D:\\\\Visual Studio Projects\\\\BFIN\\\\Parsed\\\\*.md')\n",
    "output_ipynb_files = [file.replace('.md', '.ipynb').replace('Parsed', 'Converted') for file in input_md_files]\n",
    "\n",
    "# Loop through the input and output file lists and call the function for each pair\n",
    "for i in range(len(input_md_files)):\n",
    "    markdown_to_notebook(input_md_files[i], output_ipynb_files[i])\n",
    "\n",
    "print(f\"Converted {len(input_md_files)} markdown files to Jupyter Notebooks.\")"
   ]
  }
 ],
 "metadata": {
  "kernelspec": {
   "display_name": "universal",
   "language": "python",
   "name": "python3"
  },
  "language_info": {
   "codemirror_mode": {
    "name": "ipython",
    "version": 3
   },
   "file_extension": ".py",
   "mimetype": "text/x-python",
   "name": "python",
   "nbconvert_exporter": "python",
   "pygments_lexer": "ipython3",
   "version": "3.12.9"
  }
 },
 "nbformat": 4,
 "nbformat_minor": 5
}
