{
 "cells": [
  {
   "cell_type": "markdown",
   "id": "d3b91641",
   "metadata": {},
   "source": [
    "\n",
    "***Investments Finance 2 - BFIN***\n",
    "\n",
    "**Dr. Omer Cayirli**\n",
    "\n",
    "Lecturer in Empirical Finance\n",
    "\n",
    "omer.cayirli@vgu.edu.vn\n",
    "\n",
    "---\n",
    "\n"
   ]
  },
  {
   "cell_type": "markdown",
   "id": "19509167",
   "metadata": {},
   "source": [
    "## Lecture 06\n",
    "---"
   ]
  },
  {
   "cell_type": "markdown",
   "id": "035bc217",
   "metadata": {},
   "source": [
    "### Question 1\n",
    "\n",
    "* Which of the following correctly describes a repurchase agreement?\n",
    "  1. The sale of a security with a commitment to repurchase the same security at a specified future date and a designated price.\n",
    "  2. The sale of a security with a commitment to repurchase the same security at a future date left unspecified, at a designated price.\n",
    "  3. The purchase of a security with a commitment to purchase more of the same security at a specified future date.\n",
    "\n",
    "---\n"
   ]
  },
  {
   "cell_type": "markdown",
   "id": "7f50733a",
   "metadata": {},
   "source": [
    "### Question 2\n",
    "\n",
    "* What would you expect to happen to the spread between yields on commercial paper and Treasury bills if the economy were to enter a steep recession?\n",
    "\n",
    "---\n"
   ]
  },
  {
   "cell_type": "markdown",
   "id": "e495e268",
   "metadata": {},
   "source": [
    "### Question 3\n",
    "\n",
    "* Assuming that all other relevant features of the stocks and options are identical, which security should sell at a greater price?\n",
    "  * A 10-year Treasury bond with a 4% coupon rate versus a 10-year T-bond with a 5% coupon.\n",
    "  * A 3-month expiration call option with an exercise price of $40 versus a 3-month call on the same stock with an exercise price of $35.\n",
    "  * A put option on a stock selling at $50 or a put option on another stock selling at $60.\n",
    "\n",
    "---\n"
   ]
  },
  {
   "cell_type": "markdown",
   "id": "7728a97f",
   "metadata": {},
   "source": [
    "### Question 4\n",
    "\n",
    "* Why do call options with exercise prices greater than the price of the underlying stock sell for positive prices?\n",
    "\n",
    "---\n"
   ]
  },
  {
   "cell_type": "markdown",
   "id": "afd53435",
   "metadata": {},
   "source": [
    "### Question 5\n",
    "\n",
    "* Both a call and a put currently are traded on stock XYZ; both have strike prices of $50 and expirations of 6 months. What will be the profit to an investor who buys the call for $4 in the following scenarios for stock prices in 6 months? What will be the profit in each scenario to an investor who buys the put for $6?\n",
    "  1. $40\n",
    "  2. $45\n",
    "  3. $50\n",
    "  4. $55\n",
    "  5. $60\n",
    "\n",
    "---\n"
   ]
  },
  {
   "cell_type": "markdown",
   "id": "8cca3a50",
   "metadata": {},
   "source": [
    "### Question 6\n",
    "\n",
    "* What is the difference between a put option and a short position in a futures contract?\n",
    "* What is the difference between a call option and a long position in a futures contract?\n",
    "---\n"
   ]
  },
  {
   "cell_type": "markdown",
   "id": "7667c1af",
   "metadata": {},
   "source": [
    "### Question 7\n",
    "\n",
    "* Lanni Products is a start-up computer software development firm. It currently owns computer equipment worth $30,000 and has cash on hand of $20,000 contributed by Lanni's owners. For each of the following transactions, identify the real and/or financial assets that trade hands. Are any financial assets created or destroyed in the transaction?\n",
    "  * Lanni takes out a bank loan. It receives $50,000 in cash and signs a note promising to pay back the loan over 3 years.\n",
    "  * Lanni uses the cash from the bank plus $20,000 of its own funds to finance the development of new financial planning software.\n",
    "  * Lanni sells the software product to Microsoft, which will market it to the public under the Microsoft name. Lanni accepts payment in the form of 1,250 shares of Microsoft stock.\n",
    "  * Lanni sells the shares of stock for $100 per share and uses part of the proceeds to pay off the bank loan.\n",
    "\n",
    "---\n"
   ]
  },
  {
   "cell_type": "markdown",
   "id": "cd8eb7c0",
   "metadata": {},
   "source": [
    "### Question 8\n",
    "\n",
    "* The average rate of return on investments in large stocks has outpaced that on investments in Treasury bills by about 8% since 1926. Why, then, does anyone invest in Treasury bills?\n",
    "\n",
    "---\n"
   ]
  },
  {
   "cell_type": "markdown",
   "id": "0b1dd38a",
   "metadata": {},
   "source": [
    "### Question 9\n",
    "\n",
    "* What are some advantages and disadvantages of top-down versus bottom-up investing styles?\n",
    "\n",
    "---\n"
   ]
  },
  {
   "cell_type": "markdown",
   "id": "23b1ed9e",
   "metadata": {},
   "source": [
    "### Question 10\n",
    "\n",
    "* A bond with an annual coupon rate of 4.8% sells for $970. What is the bond's current yield?\n",
    "\n",
    "---\n"
   ]
  },
  {
   "cell_type": "markdown",
   "id": "3c1e4a2a",
   "metadata": {},
   "source": [
    "### Question 11\n",
    "\n",
    "* A bond pays semi-annual coupons of $25, has a face value of $1,000, and 5 years to maturity. Currently, the market interest rate is 6%. What is the bond's current yield?\n",
    "\n",
    "---\n"
   ]
  },
  {
   "cell_type": "markdown",
   "id": "304befcd",
   "metadata": {},
   "source": [
    "### Question 12\n",
    "\n",
    "* Treasury bonds paying an 8% coupon rate with semiannual payments currently sell at par value. What coupon rate would they have to pay in order to sell at par if they paid their coupons annually?\n",
    "\n",
    "---\n",
    "\n"
   ]
  },
  {
   "cell_type": "markdown",
   "id": "6eccf1c4",
   "metadata": {},
   "source": [
    "### Question 13\n",
    "\n",
    "* Consider an 8% coupon bond selling for $953.10 with three years until maturity making annual coupon coupon payments. The interest rates in the next three years will be, with certainty, $r_1 = 8\\%$, $r_2 = 10\\%$, and $r_3 = 12\\%$. Calculate the bond's (a) yield to maturity and (b) realized compound yield.\n",
    "\n",
    "---\n"
   ]
  },
  {
   "cell_type": "markdown",
   "id": "7ac29f69",
   "metadata": {},
   "source": [
    "### Question 14\n",
    "\n",
    "* A 20-year maturity bond with par value of $1,000 makes semiannual coupon payments at a coupon rate of 8%. Find the bond equivalent and effective annual yield to maturity of the bond if the bond price is:\n",
    "  * $950\n",
    "  * $1,000\n",
    "  * $1,050\n",
    "\n",
    "---\n"
   ]
  },
  {
   "cell_type": "markdown",
   "id": "bce1020b",
   "metadata": {},
   "source": [
    "### Question 15\n",
    "\n",
    "* A bond with a coupon rate of 7% makes semiannual coupon payments on January 15 and July 15 of each year. The Wall Street Journal reports the ask price for the bond on January 30 at 100.125. What is the invoice price of the bond? The coupon period has 182 days.\n",
    "\n",
    "---\n"
   ]
  },
  {
   "cell_type": "markdown",
   "id": "90803321",
   "metadata": {},
   "source": [
    "### Question 16\n",
    "\n",
    "* Suppose that today's date is April 15. A bond with a 10% coupon paid semiannually every January 15 and July 15 is quoted as selling at an ask price of 101.25. If you buy the bond from a dealer today, what price will you pay for it?\n",
    "\n",
    "---\n"
   ]
  },
  {
   "cell_type": "markdown",
   "id": "dd6bf960",
   "metadata": {},
   "source": [
    "### Question 17\n",
    "\n",
    "* Assume that two firms issue bonds with the following characteristics. Both bonds are issued at par. Ignoring credit quality, identify features of these issues that might account for the lower coupon on the ABC debt.\n",
    "\n",
    "| | ABC Bonds | XYZ Bonds |\n",
    "| :---------------- | :---------------- | :---------------- |\n",
    "| Issue size | $1.2 billion | $150 million |\n",
    "| Maturity | 10 years* | 20 years |\n",
    "| Coupon | 6% | 7% |\n",
    "| Collateral | First mortgage | General debenture |\n",
    "| Callable | Not callable | In 10 years |\n",
    "| Call price | None | 110 |\n",
    "| Sinking fund | None | Starting in 5 years |\n",
    "\n",
    "*Bond is extendible at the discretion of the bondholder for an additional 10 years.\n",
    "\n",
    "---\n"
   ]
  },
  {
   "cell_type": "markdown",
   "id": "475be3c6",
   "metadata": {},
   "source": [
    "### Question 18\n",
    "\n",
    "* FinCorp issued two bonds with 20-year maturities. Both bonds are callable at $1,050. The first bond was issued at a deep discount with a coupon rate of 4% and a price of $580 to yield 8.4%. The second bond was issued at par value with a coupon rate of 8.75%.\n",
    "  * What is the yield to maturity of the par bond? Why is it higher than the yield of the discount bond?\n",
    "  * If you expect rates to fall substantially in the next two years, which bond has the higher expected rate of return?\n",
    "  * In what sense does the discount bond offer \"implicit call protection\"?\n",
    "\n",
    "---\n"
   ]
  },
  {
   "cell_type": "markdown",
   "id": "f19b822f",
   "metadata": {},
   "source": [
    "### Question 19\n",
    "\n",
    "* On May 30, 2020, you are considering one of the newly issued 10-year AAA corporate bonds shown in the following exhibit.\n",
    "\n",
    "| Description | Coupon | Price | Callable | Call Price |\n",
    "| :-------------------------- | :------- | :---- | :--------- | :--------- |\n",
    "| Sentinal, due May 30, 2030 | 4.00% | 100 | Noncallable | NA |\n",
    "| Colina, due May 30, 2030 | 4.20% | 100 | Currently callable | 102 |\n",
    "\n",
    "  * Suppose that market interest rates decline by 100 basis points. Contrast the effect of this decline on the price of each bond.\n",
    "  * Would you prefer the Colina or the Sentinal bond when rates are expected to rise? Which would you prefer when rates are expected to fall?\n",
    "\n",
    "---\n"
   ]
  },
  {
   "cell_type": "markdown",
   "id": "68486e88",
   "metadata": {},
   "source": [
    "### Question 20\n",
    "\n",
    "* A convertible bond has the following features. What is its conversion premium?\n",
    "\n",
    "| | |\n",
    "| :-------------------------------------- | :---------------- |\n",
    "| Coupon | 5.25% |\n",
    "| Maturity | June 15, 2030 |\n",
    "| Market price of bond | $77.50 |\n",
    "| Market price of underlying common stock | $28.00 |\n",
    "| Annual dividend | $1.20 |\n",
    "| Conversion ratio | 20.83 shares |\n",
    "\n",
    "---\n"
   ]
  },
  {
   "cell_type": "markdown",
   "id": "fbe44ac8",
   "metadata": {},
   "source": [
    "### Question 21\n",
    "\n",
    "* Consider a 5-year bond with a 10% coupon that has a present yield to maturity of 8%. If interest rates remain constant, one year from now the price of this bond will be:\n",
    "  1. Higher\n",
    "  2. Lower\n",
    "  3. The same\n",
    "  4. Par\n",
    "\n",
    "---\n"
   ]
  },
  {
   "cell_type": "markdown",
   "id": "0bdb7000",
   "metadata": {},
   "source": [
    "### Question 22\n",
    "\n",
    "* You have just purchased a new house. To finance the purchase, you've arranged for a 30-year mortgage for 80 percent of the $500,000 purchase price. The monthly payment on this loan will be $2,500. What are the APR and EAR on this loan?\n",
    "\n",
    "---\n"
   ]
  },
  {
   "cell_type": "markdown",
   "id": "e6ec228d",
   "metadata": {},
   "source": [
    "### Question 23\n",
    "\n",
    "* You have the following information about the spot yield curve:\n",
    "\n",
    "| Maturity | Spot rate |\n",
    "| :------- | :-------- |\n",
    "| 1 year | 2.40% |\n",
    "| 2 year | 3.10% |\n",
    "| 3 year | 3.55% |\n",
    "| 5 year | 4.25% |\n",
    "\n",
    "  * Calculate the prices of zero-coupon bonds, with $100 face values, at maturities of 1, 2, 3 and 5 years.\n",
    "  * Calculate the one-year forward rates beginning at t=1 and t=2.\n",
    "  * A bond with $1000 face value, a five-year maturity and 10% annual coupon payments (paid annually, not semiannually) has a market price of $1260.94. What is the 4-year spot rate implied by this market price? You may assume that the risks of this bond's cash flows are identical to the risk of the assets whose spot rates are quoted above. You may also assume that the next (annual) coupon payment is exactly 1 year from today.\n",
    "\n",
    "---\n"
   ]
  },
  {
   "cell_type": "markdown",
   "id": "f9a8d486",
   "metadata": {},
   "source": [
    "### Question 24\n",
    "\n",
    "* Consider the following $1,000 par value zero-coupon bonds:\n",
    "\n",
    "| Bond | Years to Maturity | YTM(%) |\n",
    "| :--- | :---------------- | :----- |\n",
    "| A | 1 | 5% |\n",
    "| B | 2 | 6 |\n",
    "| C | 3 | 6.5 |\n",
    "| D | 4 | 7 |\n",
    "\n",
    "  * What are the expected values of next year's yields on bonds with maturities of\n",
    "    * (a) one year?\n",
    "    * (b) two years?\n",
    "    * (c) three years?\n",
    "\n",
    "---\n"
   ]
  },
  {
   "cell_type": "markdown",
   "id": "b10c96b9",
   "metadata": {},
   "source": [
    "### Question 25\n",
    "\n",
    "* The yield to maturity on 1-year zero-coupon bonds is currently 7%; the YTM on 2-year zeros is 8%. The Treasury plans to issue a 2-year maturity coupon bond, paying coupons once per year with a coupon rate of 9%. The face value of the bond is $100.\n",
    "  * At what price will the bond sell? What will the yield to maturity on the bond be?\n",
    "  * If the expectations theory of the yield curve is correct, what is the market expectation of the price for which the bond will sell next year?\n",
    "  * Recalculate your answer to part if you believe in the liquidity preference theory and you believe that the liquidity premium is 1%.\n",
    "\n",
    "---\n"
   ]
  },
  {
   "cell_type": "markdown",
   "id": "2c7f2f1a",
   "metadata": {},
   "source": [
    "\n",
    "### Question 26\n",
    "\n",
    "* Below is a list of prices for zero-coupon bonds of various maturities.\n",
    "\n",
    "| Maturity (years) | Price of $1,000 Par Bond (zero-coupon) |\n",
    "| :--------------- | :--------------------------------------- |\n",
    "| 1 | $943.40 |\n",
    "| 2 | 873.52 |\n",
    "| 3 | 816.37 |\n",
    "\n",
    "  * An 8.5% coupon $1,000 par bond pays an annual coupon and will mature in three years.\n",
    "    * What should the yield to maturity on the bond be?\n",
    "    * If the yield curve flattens out at 8% at the end of the first year, what will be the 1-year holding-period return on the coupon bond?\n",
    "\n",
    "---\n"
   ]
  },
  {
   "cell_type": "markdown",
   "id": "623b86ec",
   "metadata": {},
   "source": [
    "### Question 27\n",
    "\n",
    "* The yield to maturity (YTM) on 1-year zero-coupon bonds is 5%, and the YTM on 2-year zeros is 6%. The YTM on 2-year-maturity coupon bonds with coupon rates of 12% (paid annually) is 5.8%.\n",
    "  * What arbitrage opportunity is available for an investment banking firm?\n",
    "  * What is the profit on the activity?\n",
    "\n",
    "---\n"
   ]
  },
  {
   "cell_type": "markdown",
   "id": "7d8c04da",
   "metadata": {},
   "source": [
    "### Question 28\n",
    "\n",
    "* A 9-year bond paying coupons annually has a yield of 10% and a duration of 7.194 years. If the market yield changes by 50 basis points, what is the percentage change in the bond's price?\n",
    "\n",
    "---\n"
   ]
  },
  {
   "cell_type": "markdown",
   "id": "49411b05",
   "metadata": {},
   "source": [
    "### Question 29\n",
    "\n",
    "* Find the duration of a 6% coupon bond making annual coupon payments if it has three years until maturity and has a yield to maturity of 6%.\n",
    "  * What is the duration if the yield to maturity is 10%?\n",
    "\n",
    "---\n"
   ]
  },
  {
   "cell_type": "markdown",
   "id": "31b6140a",
   "metadata": {},
   "source": [
    "### Question 30\n",
    "\n",
    "* A 30-year maturity bond making annual coupon payments with a coupon rate of 12% has a duration of 11.54 years and a convexity of 192.4. The bond currently sells at a yield to maturity of 8%.\n",
    "  * Find the price of the bond if its yield to maturity falls to 7%.\n",
    "  * What price would be predicted by the duration rule?\n",
    "  * What price would be predicted by the duration-with-convexity rule?\n",
    "  * What is the percent error for each rule? What do you conclude about the accuracy of the two rules?\n",
    "\n",
    "---\n"
   ]
  },
  {
   "cell_type": "markdown",
   "id": "d9249ad2",
   "metadata": {},
   "source": [
    "### Question 31\n",
    "\n",
    "* You've just stumbled on a new dataset that enables you to compute historical rates of return on U.S. stocks all the way back to 1880. What are the advantages and disadvantages in using these data to help estimate the expected rate of return on U.S. stocks over the coming year?\n",
    "\n",
    "---\n"
   ]
  },
  {
   "cell_type": "markdown",
   "id": "48db36b6",
   "metadata": {},
   "source": [
    "### Question 32\n",
    "\n",
    "* You have $5,000 to invest for the next year and are considering three alternatives:\n",
    "  1. A money market fund with an average maturity of 30 days offering a current yield of 3% per year.\n",
    "  2. A 1-year savings deposit at a bank offering an interest rate of 4%.\n",
    "  3. A 20-year U.S. Treasury bond offering a yield to maturity of 5% per year.\n",
    "  * What role does your forecast of future interest rates play in your decisions?\n",
    "\n",
    "---\n"
   ]
  },
  {
   "cell_type": "markdown",
   "id": "c48c1040",
   "metadata": {},
   "source": [
    "### Question 33\n",
    "\n",
    "* Suppose your expectations regarding the stock price are as follows:\n",
    "\n",
    "| State of the Market | Probability | Ending Price | HPR (including dividends) |\n",
    "| :------------------ | :---------- | :----------- | :------------------------ |\n",
    "| Boom | 0.35 | $140 | 44.5% |\n",
    "| Normal growth | 0.30 | 110 | 14.0 |\n",
    "| Recession | 0.35 | 80 | -16.5 |\n",
    "\n",
    "  Compute the mean and standard deviation of the HPR on stock.\n",
    "\n",
    "---\n"
   ]
  },
  {
   "cell_type": "markdown",
   "id": "457f0038",
   "metadata": {},
   "source": [
    "### Question 34\n",
    "\n",
    "* Consider a risky portfolio. The end-of-year cash flow derived from the portfolio will be either $70,000 or $200,000 with equal probabilities of .5. The alternative risk-free investment in T-bills pays 6% per year.\n",
    "  a. If you require a risk premium of 8%, how much will you be willing to pay for the portfolio?\n",
    "  b. Suppose that the portfolio can be purchased for the amount you found in (a). What will be the expected rate of return on the portfolio?\n",
    "  c. Now suppose that you require a risk premium of 12%. What price are you willing to pay?\n",
    "  d. Comparing your answers to (a) and (c), what do you conclude about the relationship between the required risk premium on a portfolio and the price at which the portfolio will sell?\n",
    "\n",
    "---\n"
   ]
  },
  {
   "cell_type": "markdown",
   "id": "d2083212",
   "metadata": {},
   "source": [
    "### Question 35\n",
    "\n",
    "* Consider historical data showing that the average annual rate of return on the S&P 500 portfolio over the past 90 years has averaged roughly 8% more than the Treasury bill return and that the S&P 500 standard deviation has been about 20% per year. Assume these values are representative of investors' expectations for future performance and that the current T-bill rate is 5%.\n",
    "\n",
    "| $W_{bills}$ | $W_{index}$ |\n",
    "| :---------- | :---------- |\n",
    "| 0 | 1.0 |\n",
    "| 0.2 | 0.8 |\n",
    "| 0.4 | 0.6 |\n",
    "| 0.6 | 0.4 |\n",
    "| 0.8 | 0.2 |\n",
    "| 1.0 | 0 |\n",
    "\n",
    "  * Calculate the expected return and variance of portfolios invested in T-bills and the S&P 500 index for these weights.\n",
    "  * Calculate the utility levels of each portfolio for an investor with A = 2. What do you conclude?\n",
    "  * Repeat your calculations for an investor with A = 3. What do you conclude?\n",
    "\n",
    "---\n"
   ]
  },
  {
   "cell_type": "markdown",
   "id": "9c819d6d",
   "metadata": {},
   "source": [
    "### Question 36\n",
    "\n",
    "* A pension fund manager is considering three mutual funds. The first is a stock fund, the second is a long-term bond fund, and the third is a Money market fund that provides a safe return of 8%. The characteristics of the risky funds are as follows:\n",
    "\n",
    "| | Expected Return | Standard Deviation |\n",
    "| :---------------- | :-------------- | :----------------- |\n",
    "| Stock fund (S) | 20% | 30% |\n",
    "| Bond fund (B) | 12 | 15 |\n",
    "\n",
    "The correlation between the fund returns is 0.10.\n",
    "  * What are the investment proportions in the minimum-variance portfolio of the two risky funds, and what are the expected value and standard deviation of its rate of return?\n",
    "  * Tabulate and draw the investment opportunity set of the two risky funds. Use investment proportions for the stock fund of 0% to 100% in increments of 20%.\n",
    "  * What are the proportions of each asset in the optimal risky portfolio?\n",
    "  * What is the expected return and standard deviation of the optimal risky portfolio?\n",
    "  * What is the Sharpe ratio of the best feasible CAL?\n",
    "\n",
    "---\n"
   ]
  },
  {
   "cell_type": "markdown",
   "id": "d80f4043",
   "metadata": {},
   "source": [
    "### Question 37\n",
    "\n",
    "* A pension fund manager is considering three mutual funds. The first is a stock fund, the second is a long-term bond fund, and the third is a Money market fund that provides a safe return of 8%. The characteristics of the risky funds are as follows:\n",
    "\n",
    "| | Expected Return | Standard Deviation |\n",
    "| :---------------- | :-------------- | :----------------- |\n",
    "| Stock fund (S) | 20% | 30% |\n",
    "| Bond fund (B) | 12 | 15 |\n",
    "\n",
    "The correlation between the fund returns is 0.10.\n",
    "* You require that your portfolio yield an expected return of 14%, and that it be efficient, that is, on the steepest feasible CAL.\n",
    "  * What is the standard deviation of your portfolio?\n",
    "  * What is the proportion invested in the money market fund and each of the two risky funds?\n",
    "  * If you were to use only the two risky funds and still require an expected return of 14%, what would be the investment proportions of your portfolio? Compare its standard deviation to that of the optimized portfolio in the previous question. What do you conclude?\n",
    "\n",
    "---\n"
   ]
  },
  {
   "cell_type": "markdown",
   "id": "2a5dc934",
   "metadata": {},
   "source": [
    "### What is next?\n",
    "* Index Models and The Capital Asset Pricing Model\n",
    "  * The Single-Index Model\n",
    "  * The Capital Asset Pricing Model\n",
    "  * Reading(s): BKM Ch. 8 & 9\n",
    "  * Assignment #1 (Due before Lecture 11)\n",
    "\n",
    "---\n"
   ]
  }
 ],
 "metadata": {
  "kernelspec": {
   "display_name": "universal",
   "language": "python",
   "name": "python3"
  },
  "language_info": {
   "codemirror_mode": {
    "name": "ipython",
    "version": 3
   },
   "file_extension": ".py",
   "mimetype": "text/x-python",
   "name": "python",
   "nbconvert_exporter": "python",
   "pygments_lexer": "ipython3",
   "version": "3.12.9"
  }
 },
 "nbformat": 4,
 "nbformat_minor": 5
}
