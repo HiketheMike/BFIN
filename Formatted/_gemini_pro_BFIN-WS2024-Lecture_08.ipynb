{
 "cells": [
  {
   "cell_type": "markdown",
   "id": "a6136489",
   "metadata": {},
   "source": [
    "\n",
    "# Investments Finance 2 - BFIN\n",
    "### Dr. Omer CAYIRLI\n",
    "---\n",
    "\n"
   ]
  },
  {
   "cell_type": "markdown",
   "id": "6f35a47b",
   "metadata": {},
   "source": [
    "## Lecture 8\n",
    "\n",
    "---\n",
    "\n"
   ]
  },
  {
   "cell_type": "markdown",
   "id": "4f57e5ed",
   "metadata": {},
   "source": [
    "### Outline\n",
    "* Multifactor Models\n",
    "* Arbitrage Pricing Theory\n",
    "\n",
    "---\n",
    "\n"
   ]
  },
  {
   "cell_type": "markdown",
   "id": "a81c62cb",
   "metadata": {},
   "source": [
    "### APT and Multifactor Models of Risk and Return\n",
    "\n",
    "---\n",
    "\n"
   ]
  },
  {
   "cell_type": "markdown",
   "id": "832ebf30",
   "metadata": {},
   "source": [
    "### Single Factor Model\n",
    "* Returns on a security come from two sources:\n",
    "    * Common macro-economic factor\n",
    "    * Firm specific events\n",
    "* Possible common macro-economic factors\n",
    "    * Gross Domestic Product growth\n",
    "    * Interest rates\n",
    "\n",
    "$R_i = E(R_i) + \\beta_i F + e_i$\n",
    "\n",
    "---\n",
    "\n"
   ]
  },
  {
   "cell_type": "markdown",
   "id": "969a6cfb",
   "metadata": {},
   "source": [
    "### Multifactor Models\n",
    "* Use more than one factor:\n",
    "    * Market Return, GDP, Expected Inflation, Interest Rates\n",
    "* Estimate a beta or factor loading for each factor using multiple regression\n",
    "\n",
    "$R_i = E(R_i) + \\beta_{iGDP}GDP + \\beta_{iIR}IR + e_i$\n",
    "\n",
    "---\n",
    "\n"
   ]
  },
  {
   "cell_type": "markdown",
   "id": "2dcee2bc",
   "metadata": {},
   "source": [
    "### APT and Multifactor Models of Risk and Return\n",
    "\n",
    "---\n",
    "\n"
   ]
  },
  {
   "cell_type": "markdown",
   "id": "58226d61",
   "metadata": {},
   "source": [
    "### Markowitz Mean-variance Portfolio Theory\n",
    "* Introduced by Harry Markowitz in the 1950\n",
    "* Foundation of modern portfolio theory\n",
    "* Mean-variance optimizers (Expected return & variance)\n",
    "    * Global minimum variance portfolio\n",
    "    * Efficient portfolios\n",
    "* There is no natural starting point for the expected return assumptions\n",
    "\n",
    "---\n",
    "\n"
   ]
  },
  {
   "cell_type": "markdown",
   "id": "24ba191e",
   "metadata": {},
   "source": [
    "### The Capital Asset Pricing Model\n",
    "* Linear, single period & one factor equilibrium model\n",
    "* Enables us to generate expected returns for any asset using the systematic risk(Beta), and the market risk premium.\n",
    "* Relatively strong assumptions\n",
    "\n",
    "---\n",
    "\n"
   ]
  },
  {
   "cell_type": "markdown",
   "id": "e63b9630",
   "metadata": {},
   "source": [
    "### APT and Multifactor Models of Risk and Return\n",
    "\n",
    "---\n",
    "\n"
   ]
  },
  {
   "cell_type": "markdown",
   "id": "a45be728",
   "metadata": {},
   "source": [
    "### The Arbitrage Pricing Theory (APT)\n",
    "* Models the expected return of a financial asset as a function of various macroeconomic factors or theoretical market indexes.\n",
    "* Multifactor models\n",
    "\n",
    "---\n",
    "\n"
   ]
  },
  {
   "cell_type": "markdown",
   "id": "60f43307",
   "metadata": {},
   "source": [
    "### Multifactor Asset Pricing Models\n",
    "* Fama-French Models (Three-factor & five-factor models)\n",
    "* Mostly based on the previous empirical findings regarding return anomalies.\n",
    "* Factor-augmented versions of the CAPM but built on the APT.\n",
    "\n",
    "---\n",
    "\n"
   ]
  },
  {
   "cell_type": "markdown",
   "id": "a2a9db41",
   "metadata": {},
   "source": [
    "### CAPM vs. APT & Multifactor models\n",
    "* CAPM – Homogeneous expectations, mean-variance preferences, single factor, market.\n",
    "* APT – No assumption about expectations or investor risk preferences, does not explicitly state what the factors are.\n",
    "\n",
    "---\n",
    "\n"
   ]
  },
  {
   "cell_type": "markdown",
   "id": "9c68c723",
   "metadata": {},
   "source": [
    "### APT and Multifactor Models of Risk and Return\n",
    "\n",
    "---\n",
    "\n"
   ]
  },
  {
   "cell_type": "markdown",
   "id": "c7467ade",
   "metadata": {},
   "source": [
    "### CAPM\n",
    "* There is one risk premium, which can be captured by the market portfolio.\n",
    "\n",
    "---\n",
    "\n"
   ]
  },
  {
   "cell_type": "markdown",
   "id": "f44adad3",
   "metadata": {},
   "source": [
    "### APT & Multifactor models\n",
    "* There are other risk premia than the market risk premium.\n",
    "\n",
    "* It is all about whether $\\alpha = 0$ or not.\n",
    "\n",
    "---\n",
    "\n"
   ]
  },
  {
   "cell_type": "markdown",
   "id": "5a93812e",
   "metadata": {},
   "source": [
    "### APT and Multifactor Models of Risk and Return\n",
    "\n",
    "---\n",
    "\n"
   ]
  },
  {
   "cell_type": "markdown",
   "id": "42695026",
   "metadata": {},
   "source": [
    "### The Arbitrage Pricing Theory (APT)\n",
    "* Arbitrage occurs if there is a zero investment portfolio with a sure profit\n",
    "* No investment -> Investors create large positions to obtain large profits\n",
    "* All investors will want an infinite position in the risk-free arbitrage portfolio\n",
    "* In efficient markets, profitable arbitrage opportunities will quickly disappear\n",
    "\n",
    "---\n",
    "\n"
   ]
  },
  {
   "cell_type": "markdown",
   "id": "58e9b7ed",
   "metadata": {},
   "source": [
    "### The Law of One Price:\n",
    "* Enforced by arbitrageurs: If they observe a violation they will engage in arbitrage activity\n",
    "* This bids up (down) the price where it is low (high) until the arbitrage opportunity is eliminated\n",
    "\n",
    "---\n",
    "\n"
   ]
  },
  {
   "cell_type": "markdown",
   "id": "e1614ea8",
   "metadata": {},
   "source": [
    "### APT and Multifactor Models of Risk and Return\n",
    "$R_P = E(R_P) + \\beta_P F + e_P$ where $F = \\text{SystematicRisk}$\n",
    "\n",
    "$E(R_P) = \\sum w_i E(R_i)$\n",
    "\n",
    "$\\beta_P = \\sum w_i \\beta_i$\n",
    "\n",
    "$e_P = \\sum w_i e_i$\n",
    "\n",
    "---\n",
    "\n"
   ]
  },
  {
   "cell_type": "markdown",
   "id": "679d6ef4",
   "metadata": {},
   "source": [
    "### For a well-diversified portfolio,\n",
    "* $e_P \\to 0$ as the number of securities increases and weights decrease\n",
    "\n",
    "---\n",
    "\n"
   ]
  },
  {
   "cell_type": "markdown",
   "id": "0f35cb80",
   "metadata": {},
   "source": [
    "### APT and Multifactor Models of Risk and Return\n",
    "**Panel A, Well-diversified portfolio**\n",
    "\n",
    "Excess Return (%)\n",
    "\n",
    "\n",
    "**Panel B, Single stock (S)**\n",
    "\n",
    "Excess Return (%)\n",
    "\n",
    "\n",
    "---\n",
    "\n"
   ]
  },
  {
   "cell_type": "markdown",
   "id": "4838d363",
   "metadata": {},
   "source": [
    "### APT and Multifactor Models of Risk and Return\n",
    "\n",
    "---\n",
    "\n"
   ]
  },
  {
   "cell_type": "markdown",
   "id": "23afdfba",
   "metadata": {},
   "source": [
    "### No-Arbitrage Equation of APT\n",
    "$E(R_P) = \\beta_P E(R_M)$\n",
    "\n",
    "* Applies to well-diversified portfolios\n",
    "* Establishes that the SML of CAPM applies to well-diversified portfolios\n",
    "\n",
    "| APT                                                                                              | CAPM                                                                                                                                                             |\n",
    "| :----------------------------------------------------------------------------------------------- | :--------------------------------------------------------------------------------------------------------------------------------------------------------------- |\n",
    "| * Assumes a well-diversified portfolio, but residual risk is still a factor                      | * Model is based on an inherently unobservable \"market\" portfolio                                                                                              |\n",
    "| * Does not assume investors are mean-variance optimizers                                         | * Rests on mean-variance efficiency. The actions of many small investors restore CAPM equilibrium                                                                |\n",
    "| * Uses an observable market index                                                                |                                                                                                                                                                  |\n",
    "| * Reveals arbitrage opportunities                                                                |                                                                                                                                                                  |\n",
    "\n",
    "---\n",
    "\n"
   ]
  },
  {
   "cell_type": "markdown",
   "id": "744137ed",
   "metadata": {},
   "source": [
    "### APT and Multifactor Models of Risk and Return\n",
    "* Before CAPM\n",
    "    $E[R_i] - R_f = \\alpha_i$\n",
    "\n",
    "* With CAPM\n",
    "    $E[R_i] - R_f = \\beta^m (E[R_m] - R_f)$\n",
    "\n",
    "* Alpha is still there!\n",
    "    $E[R_i] - R_f = \\alpha_i + \\beta^m (E[R_m] - R_f)$\n",
    "\n",
    "* Fama and French (1992)\n",
    "    $E[R_i] - R_f = \\beta^m (E[R_m] - R_f) + \\beta^{smb}[R_{smb}] + \\beta^{hml} [R_{hml}]$\n",
    "\n",
    "* Carhart (1997)\n",
    "    $E[R_i] - R_f = \\beta^m (E[R_m] - R_f) + \\beta^{smb} [R_{smb}] + \\beta^{hml} [R_{hml}] + \\beta^{wml}[R_{wml}]$\n",
    "\n",
    "* Fama and French (2015)\n",
    "    $E[R_i] - R_f = \\beta^m (E[R_m] - R_f) + \\beta^{smb} [R_{smb}] + \\beta^{hml} [R_{hml}] + \\beta^{rmw} [R_{rmw}] + \\beta^{cma}[R_{cma}]$\n",
    "\n",
    "---\n",
    "\n"
   ]
  },
  {
   "cell_type": "markdown",
   "id": "0959e8ab",
   "metadata": {},
   "source": [
    "### APT and Multifactor Models of Risk and Return\n",
    "\n",
    "---\n",
    "\n"
   ]
  },
  {
   "cell_type": "markdown",
   "id": "682d11a0",
   "metadata": {},
   "source": [
    "### Multifactor APT\n",
    "* Use of more than a single systematic factor\n",
    "* Requires formation of factor portfolios\n",
    "* What factors?\n",
    "    * Factors that are important to the performance of the general economy\n",
    "    * What about firm characteristics?\n",
    "\n",
    "---\n",
    "\n"
   ]
  },
  {
   "cell_type": "markdown",
   "id": "f618a666",
   "metadata": {},
   "source": [
    "### The multifactor APT is similar to the one-factor case\n",
    "$R_i = E(R_i) + \\beta_{i1}F_1 + \\beta_{i2}F_2 + e_i$\n",
    "\n",
    "---\n",
    "\n"
   ]
  },
  {
   "cell_type": "markdown",
   "id": "6dd0182d",
   "metadata": {},
   "source": [
    "### Track with diversified factor portfolios:\n",
    "* $\\beta=1$ for one of the factors and $0$ for all other factors\n",
    "* The factor portfolios track a particular source of macroeconomic risk, but are uncorrelated with other sources of risk\n",
    "\n",
    "---\n",
    "\n"
   ]
  },
  {
   "cell_type": "markdown",
   "id": "2a3d0d44",
   "metadata": {},
   "source": [
    "### APT and Multifactor Models of Risk and Return\n",
    "\n",
    "---\n",
    "\n"
   ]
  },
  {
   "cell_type": "markdown",
   "id": "6e1a7243",
   "metadata": {},
   "source": [
    "### Fama-French Three-Factor Model\n",
    "$R_{it} = \\alpha_i + \\beta_{iM}R_{Mt} + \\beta_{iSMB}SMB_t + \\beta_{iHML}HML_t + e_{it}$\n",
    "\n",
    "* Are these firm characteristics correlated with actual systematic risk factors?\n",
    "\n",
    "---\n",
    "\n"
   ]
  },
  {
   "cell_type": "markdown",
   "id": "22fd00a9",
   "metadata": {},
   "source": [
    "### Fama and French (1992) find that firm characteristics other than beta help explain returns\n",
    "* Firm size (ME = market value of equity)\n",
    "* Book-to-market ratio (B/M = book value of equity / market value of equity)\n",
    "* Methodology:\n",
    "    * Sort all stocks by size (ME) and determine decile breakpoints for ME\n",
    "    * Allocate stocks to 10 size portfolios\n",
    "    * Subdivide each size decile into 10 portfolios on the basis of beta\n",
    "\n",
    "---\n",
    "\n"
   ]
  },
  {
   "cell_type": "markdown",
   "id": "ebb80f46",
   "metadata": {},
   "source": [
    "### APT and Multifactor Models of Risk and Return\n",
    "\n",
    "---\n",
    "\n"
   ]
  },
  {
   "cell_type": "markdown",
   "id": "f6986ec7",
   "metadata": {},
   "source": [
    "### Fama-French Three-Factor Model\n",
    "* Firm size\n",
    "    * Average stock returns of small firms are higher than predicted by the CAPM\n",
    "    * After controlling for size, beta does not explain much of the cross-sectional variation of average returns\n",
    "* Book-to-market ratio market ratio\n",
    "    * Firms with higher book-to-market ratios have higher average returns\n",
    "    * B/M-based portfolios show almost no variation in beta\n",
    "    * B/M ratio is negatively correlated with size\n",
    "\n",
    "---\n",
    "\n"
   ]
  },
  {
   "cell_type": "markdown",
   "id": "7b749b6b",
   "metadata": {},
   "source": [
    "### What Do We Learn From These Tests?\n",
    "* Single-factor traditional CAPM does not work?\n",
    "* Size may or may not be a priced factor\n",
    "    * Size works in the Fama-French model from 1962 to 1989\n",
    "    * Size premium disappeared in the 90s\n",
    "* Book-to-market ratio seems to be a priced factor\n",
    "    * Value stocks (high B/M stocks) earn higher expected returns than growth stocks (low B/M stocks)\n",
    "    * Problem is, we don't really know why\n",
    "* Time variation in risk matters\n",
    "\n",
    "---\n",
    "\n"
   ]
  },
  {
   "cell_type": "markdown",
   "id": "a3a0c662",
   "metadata": {},
   "source": [
    "### Asset pricing in a multifactor setting\n",
    "\n",
    "---\n",
    "\n"
   ]
  },
  {
   "cell_type": "markdown",
   "id": "6a64951b",
   "metadata": {},
   "source": [
    "### Asset pricing in a multifactor setting\n",
    "* Raises a critique of multifactor models used in asset pricing literature.\n",
    "* Mathematically shows that, no matter how many factors are added to the capital asset pricing model (CAPM), beta will always matter.\n",
    "* Also shows that augmenting factors to the single-factor CAPM requires market risk premiums to be modeled as time varying.\n",
    "* Offers a fairly simple way to estimate expected excess returns in a multifactor setting without the use of sorting methodologies.\n",
    "\n",
    "---\n",
    "\n"
   ]
  },
  {
   "cell_type": "markdown",
   "id": "1fb9dd89",
   "metadata": {},
   "source": [
    "### Asset pricing in a multifactor setting\n",
    "$E(R_i) = R_f + \\beta_i [E(R_M) - R_f]$ for $i=1,...,N$ (Eq. 1) Sharpe-Lintner version of CAPM\n",
    "\n",
    "* May be written as,\n",
    "    $E(R_i) = (1 - \\beta_i)R_f + \\beta_i E(R_M)$ (Eq. 2)\n",
    "\n",
    "* Sharpe-Lintner's version of CAPM may be manipulated further by subtracting $E(R_M)$ from both sides,\n",
    "    $E(R_i^{ex}) = (\\beta_i - 1)[E(R_M) - R_f]$ (Eq. 3)\n",
    "\n",
    "* Conveys information on the expected relative performance of asset $i$ compared to the market.\n",
    "* The only risk factor that does matter in this setting is the systemic component.\n",
    "\n",
    "---\n",
    "\n"
   ]
  },
  {
   "cell_type": "markdown",
   "id": "7c067088",
   "metadata": {},
   "source": [
    "### Asset pricing in a multifactor setting\n",
    "* Assume that there is another factor (X) that is relevant for $E(R_i^{ex})$. Denoting asset $i$'s sensitivity to this factor as $\\phi_i$, we can rewrite the pricing equation as follows,\n",
    "    $E(R_i^{ex}) = (\\beta_i - 1)[E(R_M) - R_f] + \\phi_i E(X)$ (Eq. 4)\n",
    "\n",
    "* In this setting,\n",
    "    * If X is an idiosyncratic factor, it will not be priced; hence, $\\phi_i$ will not be different than zero and equation will collapse to a one-factor model.\n",
    "    * If X is a priced factor, $\\phi_i$ will be different than zero and since the market is the sum of individual assets, the market return will also be sensitive to the factor X.\n",
    "\n",
    "* Then, the expected return on the market portfolio in the period ($t_0, t_1$) may be written as follows where $\\phi_M$ represents the market's sensitivity to factor X, and $E(\\bar{R}_M)$ is the market risk premium observed at $t_0$.\n",
    "    $E(R_M) = E(\\bar{R}_M) + \\phi_M d(E(X))$ (Eq. 5)\n",
    "\n",
    "* Substituting this into the previous equation for $E(R_M)$ yields the following equation,\n",
    "    $E(R_i^{ex}) = (\\beta_i - 1)[E(\\bar{R}_M) + \\phi_M d(E(X)) - R_f] + \\phi_i E(X)$ (Eq. 6)\n",
    "\n",
    "---\n",
    "\n"
   ]
  },
  {
   "cell_type": "markdown",
   "id": "f7a2deff",
   "metadata": {},
   "source": [
    "### Asset pricing in a multifactor setting\n",
    "$E(R_i^{ex}) = (\\beta_i - 1)[E(\\bar{R}_M) + \\phi_M d(E(X)) - R_f] + \\phi_i E(X)$ (Eq. 6)\n",
    "\n",
    "* Taking the differential of equation of this equation we have,\n",
    "    $d(E(R_i^{ex})) = (\\beta_i \\phi_M - \\Phi_M) + \\phi_i d(E(X))$ (Eq. 7)\n",
    "    $d(E(R_i^{ex})) = (\\beta_i-1)\\phi_M + \\phi_i d(E(X))$ (Eq. 8)\n",
    "* Assuming that $\\beta_i$ is the estimated systemic risk of asset $i$ at time $t_0$, and constant.\n",
    "* Also assume that $\\phi_M$ and $\\phi_i$ are also constant.\n",
    "\n",
    "* Follows from the fact that the only source of change in the pricing equation is $E(X)$.\n",
    "\n",
    "* Conveys that, in a two-factor setting, the expected relative performance of asset $i$ compared to market will be determined by $\\beta_i$ at $t=0$, market's sensitivity to factor X ($\\phi_M$), and asset $i$'s sensitivity to the factor X ($\\phi_i$).\n",
    "\n",
    "* As long as there is a change in $E(X)$, unless $[(\\beta_i-1)\\phi_M/\\phi_i] = -d(E(X))$ then $d(E(R_i^{ex}))$ will always be different than zero.\n",
    "\n",
    "---\n",
    "\n"
   ]
  },
  {
   "cell_type": "markdown",
   "id": "afadaf08",
   "metadata": {},
   "source": [
    "### Asset pricing in a multifactor setting\n",
    "$d(E(R_i^{ex})) = (\\beta_i-1)\\phi_M + \\phi_i d(E(X))$ (Eq. 8)\n",
    "\n",
    "* When the single-factor CAPM is augmented with a priced factor, the total impact of a change in $E(X)$ on $E(R_i^{ex})$ will be jointly determined by $\\beta_i, \\phi_M, \\phi_i$, and $d(E(X))$.\n",
    "\n",
    "* For $(\\beta_i > 1)$ if both $\\phi_M$ and $\\phi_i$ have the same sign, then an increase in $E(X)$ will be amplified whereas an impact of a decrease in $E(X)$ will be less than the same amount of increase, suggesting an asymmetric response to the changes in $E(X)$.\n",
    "\n",
    "* For $(\\beta_i < 1)$, the reverse will be true and a decrease in $E(X)$ will have a larger impact on $E(R_i^{ex})$ then the similar amount of increase.\n",
    "\n",
    "* For $(\\beta_i > 1)$ and opposite signs of $\\phi_M$ and $\\phi_i$, an asymmetric response will be observed such that the effect of decrease will be greater than the same amount of increase. Again, the reverse will be true for $(\\beta_i < 1)$.\n",
    "\n",
    "* Fama and French (1992) argue that if there is a role for beta in average returns, it is likely to be found in a multi-factor model that transforms the flat simple relation between average return and beta into a positively sloped conditional relation. The analyses above clearly provide evidence for not only the conditional relation but also asymmetric responses.\n",
    "\n",
    "---\n",
    "\n"
   ]
  },
  {
   "cell_type": "markdown",
   "id": "50476af0",
   "metadata": {},
   "source": [
    "### Asset pricing in a multifactor setting\n",
    "* It is often neglected that if at least one asset in the market portfolio is sensitive to a priced factor, then the market portfolio should also be sensitive to this factor.\n",
    "\n",
    "* As the number of assets that are sensitive to a specific factor increases, it is likely for an investor to encounter a set of assets that have varying response profiles to the expected changes to the factor under question.\n",
    "\n",
    "* Nevertheless, these varying response profiles will always depend on the values of $\\beta_i, \\phi_M, \\phi_i$, and $d(E(X))$.\n",
    "\n",
    "---\n",
    "\n"
   ]
  },
  {
   "cell_type": "markdown",
   "id": "896ad3a6",
   "metadata": {},
   "source": [
    "### Asset pricing in a multifactor setting\n",
    "* If the second factor is priced, the total change in expected excess return as a response to a change $E(X)$ will be dependent on the beta in addition to $\\phi_M$ and $\\phi_i$.\n",
    "\n",
    "* For beta not to matter, $\\phi_M$ should not be different than zero and this condition can be satisfied only in two situations:\n",
    "    * When $\\phi$ for all assets is not different than zero, $\\phi_M$ will also be zero, which means that factor X is irrelevant.\n",
    "    * There might be a special case in which $\\phi_M$ is zero but more than one asset is sensitive to the factor. In this case, a combination of these assets that are sensitive to factor X should be perfect hedges for each other with respect to factor X. This is the definition of an idiosyncratic risk that can be diversified away and that should not be priced as a risk factor.\n",
    "\n",
    "* In order to prove that beta does not matter, the necessary assumption is that the expected return on the market portfolio is not sensitive to factor X.\n",
    "\n",
    "* As long as there is an asset $i$ that is in the market portfolio and sensitive to priced factor X, this necessary condition for proving that beta does not matter cannot be satisfied.\n",
    "\n",
    "---\n",
    "\n"
   ]
  },
  {
   "cell_type": "markdown",
   "id": "04916a24",
   "metadata": {},
   "source": [
    "### Asset pricing in a multifactor setting\n",
    "* We also derive the pricing equation in a three-factor setting.\n",
    "\n",
    "* Assume that the augmented factors, X and Y, are independent,\n",
    "    $d(E(R_i^{ex})) = (\\beta_i-1)\\phi_M + \\phi_i d(E(X)) + (\\beta_i-1)\\gamma_M + \\gamma_i d(E(Y))$ (Eq. 9)\n",
    "\n",
    "* Removing the independence assumption,\n",
    "    $d(E(R_i^{ex})) = A d(E(X)) + B d(E(Y))$ (Eq. 10)\n",
    "    where,\n",
    "    $A = (\\beta_i-1)\\phi_M + [(\\beta_i-1)\\gamma_M d(E(Y)) + \\phi_i + \\gamma_i E(Y)]$ (Eq. 11)\n",
    "    $B = (\\beta_i-1)\\phi_M + [(\\beta_i-1)\\phi_M d(E(X)) + \\phi_i E(X) + \\gamma_i]$ (Eq. 12)\n",
    "\n",
    "* The beta will still matter as long as asset $i$ is in the market portfolio and both X and Y are priced factors.\n",
    "\n",
    "* For a three-factor model, the channel from the priced factors to $E(R_i^{ex})$ becomes more complicated when the additional factors co-vary, but beta is still \"alive”.\n",
    "\n",
    "---\n",
    "\n"
   ]
  },
  {
   "cell_type": "markdown",
   "id": "a3f92142",
   "metadata": {},
   "source": [
    "### Asset pricing in a multifactor setting\n",
    "* Most striking difference is that when the additional factors are allowed to co-vary, the levels of these factors also become relevant.\n",
    "    * When the levels of these additional factors are relevant, it is not surprising to obtain significant coefficients using sorting methodologies.\n",
    "    * Sorting methodologies implicitly treat these variables as conditioning variables and remove some of the heterogeneity.\n",
    "    * Fama and French (1992) note that the correlation between size and book-to-market equity affects the regressions. However, they argue that the links between size and book-to-market equity should not be exaggerated.\n",
    "\n",
    "---\n",
    "\n"
   ]
  },
  {
   "cell_type": "markdown",
   "id": "dd335ab9",
   "metadata": {},
   "source": [
    "### Asset pricing in a multifactor setting\n",
    "* Risk-premiums for the size and book-to-market factors as determinants of expected returns are highly likely to be just capturing the conditional impact of another underlying factor.\n",
    "    * A change in this underlying factor may be inducing changes in the expected returns conditional on the size and/or book-to-market equity.\n",
    "    * There may be many other factors that impact expected returns in a similar conditional nature.\n",
    "    * The underlying factor may impact the excess returns conditional on both factors in the three-factor case.\n",
    "    * Aside from being conditioning variables, size and/or book-to-market equity may also be risk factors at the same time.\n",
    "\n",
    "* If the size and book-to-market equity factors are aggregating the conditional information from the underlying factors, they will not be time-invariant as long as the conditional-response generating factor(s) are time-varying.\n",
    "\n",
    "* Also true for the market-risk premia.\n",
    "\n",
    "---\n",
    "\n"
   ]
  },
  {
   "cell_type": "markdown",
   "id": "9e95e46a",
   "metadata": {},
   "source": [
    "### Asset pricing in a multifactor setting\n",
    "* Beta will always be relevant no matter how many factors are augmented to the single-factor model.\n",
    "\n",
    "* The multi-factor models that employ additional risk factors should model the market risk-premium in a time-varying fashion since changes in the augmented factor, if priced, will have an impact on the market return as well.\n",
    "\n",
    "* Our approach also captures conditional impacts which is pertinent to the argument raised by Fama and French (1992) that if there is a role for beta in average returns, it is likely to be found in a multi-factor model that transforms the flat simple relation between average return and beta into a positively sloped conditional relation.\n",
    "    * For this inherent conditionality to become apparent, it is imperative for researchers to use a specification that takes into account that a change in the priced factor(s) will not only affect individual assets but also the expected market excess returns.\n",
    "\n",
    "* The developed approach allows estimating the expected excess returns in a multi-factor setting without drawing upon the sorting methodologies.\n",
    "    * Strongly recommend the use of underlying factors that induce changes in the expected returns, whatever they may be.\n",
    "\n",
    "---\n",
    "\n"
   ]
  },
  {
   "cell_type": "markdown",
   "id": "07391b0a",
   "metadata": {},
   "source": [
    "### What is next?\n",
    "\n",
    "* **Tutorial Session cont'd (15.10.2024)**\n",
    "\n",
    "* **Derivatives I (16.10.2024):**\n",
    "    * Introduction to Derivatives\n",
    "    * Futures and Forwards\n",
    "    * Futures, Swaps, and Risk Management\n",
    "    * Reading(s): BKM Ch. 22 & 23\n",
    "---\n"
   ]
  }
 ],
 "metadata": {
  "language_info": {
   "name": "python"
  }
 },
 "nbformat": 4,
 "nbformat_minor": 5
}
