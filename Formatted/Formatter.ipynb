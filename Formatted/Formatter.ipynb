{
 "cells": [
  {
   "cell_type": "code",
   "execution_count": null,
   "id": "94b0a7cb",
   "metadata": {},
   "outputs": [
    {
     "name": "stdout",
     "output_type": "stream",
     "text": [
      "No '##' headings found to modify, copied to: D:\\Visual Studio Projects\\BFIN\\Formatted\\Converter.ipynb\n",
      "Modified headings and saved to: D:\\Visual Studio Projects\\BFIN\\Formatted\\_gemini_pro_BFIN-WS2024-Lecture_01.ipynb\n",
      "Modified headings and saved to: D:\\Visual Studio Projects\\BFIN\\Formatted\\_gemini_pro_BFIN-WS2024-Lecture_02.ipynb\n",
      "Modified headings and saved to: D:\\Visual Studio Projects\\BFIN\\Formatted\\_gemini_pro_BFIN-WS2024-Lecture_03.ipynb\n",
      "Modified headings and saved to: D:\\Visual Studio Projects\\BFIN\\Formatted\\_gemini_pro_BFIN-WS2024-Lecture_04.ipynb\n",
      "Modified headings and saved to: D:\\Visual Studio Projects\\BFIN\\Formatted\\_gemini_pro_BFIN-WS2024-Lecture_05,.ipynb\n",
      "Modified headings and saved to: D:\\Visual Studio Projects\\BFIN\\Formatted\\_gemini_pro_BFIN-WS2024-Lecture_06.ipynb\n",
      "Modified headings and saved to: D:\\Visual Studio Projects\\BFIN\\Formatted\\_gemini_pro_BFIN-WS2024-Lecture_07.ipynb\n",
      "Modified headings and saved to: D:\\Visual Studio Projects\\BFIN\\Formatted\\_gemini_pro_BFIN-WS2024-Lecture_08.ipynb\n",
      "Modified headings and saved to: D:\\Visual Studio Projects\\BFIN\\Formatted\\_gemini_pro_BFIN-WS2024-Lecture_09.ipynb\n",
      "Modified headings and saved to: D:\\Visual Studio Projects\\BFIN\\Formatted\\_gemini_pro_BFIN-WS2024-Lecture_10.ipynb\n",
      "Modified headings and saved to: D:\\Visual Studio Projects\\BFIN\\Formatted\\_gemini_pro_BFIN-WS2024-Lecture_11.ipynb\n",
      "Finished processing 12 Jupyter Notebooks.\n"
     ]
    }
   ],
   "source": [
    "import nbformat as nbf\n",
    "import glob\n",
    "import re\n",
    "import os \n",
    "\n",
    "def modify_notebook_headings(ipynb_file_path, output_directory):\n",
    "    \"\"\"\n",
    "    Reads an existing Jupyter notebook, modifies '##' headings to '###'\n",
    "    within markdown cells, and saves the changes to a specified output directory.\n",
    "    \"\"\"\n",
    "    try:\n",
    "        with open(ipynb_file_path, 'r', encoding='utf-8') as f:\n",
    "            nb = nbf.read(f, as_version=4)\n",
    "\n",
    "        modified = False\n",
    "        for cell in nb.cells:\n",
    "            if cell.cell_type == 'markdown':\n",
    "                original_source = cell.source\n",
    "                # Replace '## ' with '### ' at the beginning of lines\n",
    "                new_source = re.sub(r'^##\\s', r'### ', original_source, flags=re.MULTILINE)\n",
    "                \n",
    "                if new_source != original_source:\n",
    "                    cell.source = new_source\n",
    "                    modified = True\n",
    "        \n",
    "        # Get just the filename from the original path\n",
    "        filename = os.path.basename(ipynb_file_path)\n",
    "        output_file_path = os.path.join(output_directory, filename)\n",
    "        os.makedirs(output_directory, exist_ok=True)\n",
    "\n",
    "        if modified:\n",
    "            with open(output_file_path, 'w', encoding='utf-8') as f:\n",
    "                nbf.write(nb, f)\n",
    "            print(f\"Modified headings and saved to: {output_file_path}\")\n",
    "        else:\n",
    "            with open(output_file_path, 'w', encoding='utf-8') as f:\n",
    "                nbf.write(nb, f)\n",
    "            print(f\"No '##' headings found to modify, copied to: {output_file_path}\")\n",
    "\n",
    "    except Exception as e:\n",
    "        print(f\"Error processing {ipynb_file_path}: {e}\")\n",
    "\n",
    "# Get all Jupyter notebook files from the specified directory\n",
    "input_ipynb_files = glob.glob('D:\\\\Visual Studio Projects\\\\BFIN\\\\Converted\\\\*.ipynb')\n",
    "\n",
    "# Define your desired output directory\n",
    "output_directory = 'D:\\\\Visual Studio Projects\\\\BFIN\\\\Formatted' \n",
    "\n",
    "for ipynb_file in input_ipynb_files:\n",
    "    modify_notebook_headings(ipynb_file, output_directory)\n",
    "\n",
    "print(f\"Finished processing {len(input_ipynb_files)} Jupyter Notebooks.\")"
   ]
  }
 ],
 "metadata": {
  "kernelspec": {
   "display_name": "universal",
   "language": "python",
   "name": "python3"
  },
  "language_info": {
   "codemirror_mode": {
    "name": "ipython",
    "version": 3
   },
   "file_extension": ".py",
   "mimetype": "text/x-python",
   "name": "python",
   "nbconvert_exporter": "python",
   "pygments_lexer": "ipython3",
   "version": "3.12.9"
  }
 },
 "nbformat": 4,
 "nbformat_minor": 5
}
