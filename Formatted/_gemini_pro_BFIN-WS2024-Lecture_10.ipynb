{
 "cells": [
  {
   "cell_type": "markdown",
   "id": "e1030673",
   "metadata": {},
   "source": [
    "\n",
    "***Investments Finance 2 - BFIN***\n",
    "\n",
    "**Dr. Omer Cayirli**\n",
    "\n",
    "Lecturer in Empirical Finance\n",
    "\n",
    "omer.cayirli@vgu.edu.vn\n",
    "\n",
    "---\n",
    "\n"
   ]
  },
  {
   "cell_type": "markdown",
   "id": "7a25f7f6",
   "metadata": {},
   "source": [
    "## Lecture 10\n",
    "---"
   ]
  },
  {
   "cell_type": "markdown",
   "id": "68958158",
   "metadata": {},
   "source": [
    "### Outline\n",
    "\n",
    "*   Derivatives II\n",
    "    *   Introduction to options\n",
    "    *   Option Payoffs\n",
    "    *   Put-Call Parity\n",
    "    *   Factors Affecting Option Prices\n",
    "\n",
    "---\n",
    "\n"
   ]
  },
  {
   "cell_type": "markdown",
   "id": "e9395160",
   "metadata": {},
   "source": [
    "### Introduction to Options\n",
    "\n",
    "*   Options are an example of a broader class of assets called contingent claims.\n",
    "    *   A contingent claim is any asset whose future payoff is contingent on the outcome of some uncertain event.\n",
    "*   A financial option contract gives its owner the right (but not the obligation) to purchase or sell an asset at a fixed price at some future date.\n",
    "    *   Call options\n",
    "    *   Put options\n",
    "    *   Option buyer (holder), Option seller (writer)\n",
    "    *   Long position (right), short position (obligation)\n",
    "    *   Option premium: The market price of the option.\n",
    "        *   Compensates the seller for the risk of loss in the event that the option holder chooses to exercise the option.\n",
    "\n",
    "---\n",
    "\n"
   ]
  },
  {
   "cell_type": "markdown",
   "id": "28460fcb",
   "metadata": {},
   "source": [
    "### Introduction to Options\n",
    "\n",
    "*   The price at which the holder buys or sells the underlying asset when the option is exercised is called the strike price or exercise price.\n",
    "    *   At-the-money: When the exercise price of an option is equal to the current price of the underlying asset.\n",
    "    *   In-the-money: If the payoff from exercising an option immediately is positive.\n",
    "    *   Out-of-the-money: If the payoff from exercising the option immediately is negative.\n",
    "*   American options allow their holders to exercise the option on any date up to and including the expiration date.\n",
    "*   European options allow their holders to exercise the option only on the expiration date.\n",
    "\n",
    "---\n",
    "\n"
   ]
  },
  {
   "cell_type": "markdown",
   "id": "8e87c95a",
   "metadata": {},
   "source": [
    "### Option Payoffs\n",
    "\n",
    "Analytical payoffs of a call: $\\max(S_T – K, 0)$\n",
    "Analytical payoffs of a putt: $\\max(K – S_T, 0)$\n",
    "\n",
    "---\n",
    "\n"
   ]
  },
  {
   "cell_type": "markdown",
   "id": "0e4dce0a",
   "metadata": {},
   "source": [
    "### Option Strategies\n",
    "\n",
    "*   Protective put positions: long asset and a long put.\n",
    "\n",
    "| | $S_T \\le K$ | $S_T > K$ |\n",
    "| :------- | :-------- | :-------- |\n",
    "| Stock | $S_T$ | $S_T$ |\n",
    "| +Put | $K-S_T$ | 0 |\n",
    "| Total | $K$ | $S_T$ |\n",
    "\n",
    "*   Covered call positions: long asset and a short call.\n",
    "\n",
    "| | $S_T \\le K$ | $S_T > K$ |\n",
    "| :------- | :-------- | :-------- |\n",
    "| Stock | $S_T$ | $S_T$ |\n",
    "| -Call | 0 | $-(S_T-K)$ |\n",
    "| Total | $S_T$ | $K$ |\n",
    "\n",
    "---\n",
    "\n"
   ]
  },
  {
   "cell_type": "markdown",
   "id": "d4a496a5",
   "metadata": {},
   "source": [
    "### Option Strategies\n",
    "\n",
    "*   Bull spreads: long call $K_1$ and short call $K_2$ with $K_1 < K_2$.\n",
    "\n",
    "| | $S_T \\le K_1$ | $K_1 < S_T \\le K_2$ | $S_T \\ge K_2$ |\n",
    "| :-------- | :----------- | :------------------ | :---------- |\n",
    "| +Call@$K_1$ | 0 | $S_T-K_1$ | $S_T-K_1$ |\n",
    "| -Call@$K_2$ | 0 | 0 | $-(S_T-K_2)$ |\n",
    "| Total | 0 | $S_T-K_1$ | $K_2-K_1$ |\n",
    "\n",
    "*   Bear spreads: long put $K_1$ and short put $K_2$ with $K_1 > K_2$.\n",
    "\n",
    "| | $S_T \\le K_2$ | $K_2 < S_T \\le K_1$ | $S_T \\ge K_1$ |\n",
    "| :-------- | :----------- | :------------------ | :---------- |\n",
    "| +Put@$K_1$ | $K_1-S_T$ | $K_1-S_T$ | 0 |\n",
    "| -Put@$K_2$ | $-(K_2-S_T)$ | 0 | 0 |\n",
    "| Total | $K_1-K_2$ | $K_1-S_T$ | 0 |\n",
    "\n",
    "---\n",
    "\n"
   ]
  },
  {
   "cell_type": "markdown",
   "id": "bacfec26",
   "metadata": {},
   "source": [
    "### Option Strategies\n",
    "\n",
    "*   Butterfly spreads: long call $K_1$, long call $K_3$ and short 2 calls with $K_2$ where $K_1 < K_2 < K_3$\n",
    "\n",
    "| $K_2 = 0.5(K_1 + K_3)$ | $S_T \\le K_1$ | $K_1 < S_T \\le K_2$ | $K_2 < S_T \\le K_3$ | $S_T \\ge K_3$ |\n",
    "| :---------------------- | :----------- | :------------------ | :------------------ | :---------- |\n",
    "| +Call@$K_1$ | 0 | $S_T-K_1$ | $S_T-K_1$ | $S_T-K_1$ |\n",
    "| +Call@$K_3$ | 0 | 0 | 0 | $S_T-K_3$ |\n",
    "| -2Call@$K_2$ | 0 | 0 | $-2(S_T-K_2)$ | $-2(S_T-K_2)$ |\n",
    "| Total | 0 | $S_T-K_1$ | $K_3-S_T$ | 0 |\n",
    "\n",
    "*   Strangles: buy call $K_1$ and buy put $K_2$, where $K_2 \\le K_1$ (if $K_1 = K_2$ it is called straddle).\n",
    "\n",
    "| | $S_T \\le K_2$ | $K_2 < S_T \\le K_1$ | $S_T \\ge K_1$ |\n",
    "| :-------- | :----------- | :------------------ | :---------- |\n",
    "| +Call@$K_1$ | 0 | 0 | $S_T-K_1$ |\n",
    "| +Put@$K_2$ | $K_2-S_T$ | 0 | 0 |\n",
    "| Total | $K_2-S_T$ | 0 | $S_T-K_1$ |\n",
    "\n",
    "---\n",
    "\n"
   ]
  },
  {
   "cell_type": "markdown",
   "id": "cf620b49",
   "metadata": {},
   "source": [
    "### Portfolio Insurance\n",
    "\n",
    "*   Insuring against a loss without relinquishing the upside.\n",
    "    *   Protective put\n",
    "    *   Purchasing a bond and a call option\n",
    "\n",
    "---\n",
    "\n"
   ]
  },
  {
   "cell_type": "markdown",
   "id": "a7f77b76",
   "metadata": {},
   "source": [
    "### Put-Call Parity\n",
    "\n",
    "*   Purchasing the underlying asset and a put provides exactly the same payoff from purchasing a bond and a call. Then, by the Law of One Price they must have the same price.\n",
    "    $$S + P = PV(K) + C$$\n",
    "    Put-call parity\n",
    "    $$C + \\frac{K}{(1+r_f)^T} = S_0 + P$$\n",
    "    Calls are equivalent to long positions in puts, buying the underlying asset and (partially) financing the purchases by borrowing the PV of the strike price of the options.\n",
    "    $$C = S_0 + P - \\frac{K}{(1+r_f)^T}$$\n",
    "    Puts are equivalent to long positions in calls, shorting the underlying asset and using the proceeds to lend the PV of the strike price of the options.\n",
    "    $$P = C - S_0 + \\frac{K}{(1+r_f)^T}$$\n",
    "\n",
    "---\n",
    "\n"
   ]
  },
  {
   "cell_type": "markdown",
   "id": "46d35f90",
   "metadata": {},
   "source": [
    "### Put-Call Parity\n",
    "\n",
    "*   It is possible to buy three-month call options and three-month puts on stock Q. Both options have an exercise price of $60 and both are worth $10. If the interest rate is 5% a year, what is the stock price?\n",
    "    $$C = S_0 + P - \\frac{K}{(1+r_f)^T}$$\n",
    "    $$C = P, \\quad r_f = 5\\%, \\quad K = 60, \\quad T = 0.25$$\n",
    "    $$S_0 = \\frac{K}{(1+r_f)^T} = \\frac{60}{(1+0.05)^{0.25}} = \\$59.27$$\n",
    "*   A stock is currently selling for $47 per share. A call option with an exercise price of $50 sells for $3.80 and expires in three months. If the risk-free rate of interest is 2.6 percent per year, compounded continuously, what is the price of a put option with the same exercise price?\n",
    "    $$C = S_0 + P - Ke^{-rT}$$\n",
    "    $$3.80 = 47 + P - 50e^{-0.026 \\times 0.25}$$\n",
    "    $$P = \\$6.48$$\n",
    "*   A put option that expires in six months with an exercise price of $75 sells for $4.89. The stock is currently priced at $72, and the risk-free rate is 3.6 percent per year, compounded continuously. What is the price of a call option with the same exercise price?\n",
    "    $$C = 72 + 4.89 - 75e^{-0.036 \\times 0.5} = \\$3.23$$\n",
    "\n",
    "---\n",
    "\n"
   ]
  },
  {
   "cell_type": "markdown",
   "id": "9a52d89b",
   "metadata": {},
   "source": [
    "### Factors Affecting Option Prices\n",
    "\n",
    "*   Strike Price and Stock Price\n",
    "    *   The value of an otherwise identical call option is higher if the strike price the holder must pay to buy the stock is lower. $\\max(S_T – K, 0)$\n",
    "    *   Puts with a lower strike price are less valuable. $\\max(K – S_T, 0)$\n",
    "*   Arbitrage Bounds on Option Prices\n",
    "    *   A put option cannot be worth more than its strike price.\n",
    "    *   A call option cannot be worth more than the stock itself.\n",
    "    *   An American option cannot be worth less than its European counterpart.\n",
    "    *   An American option cannot be worth less than its intrinsic value.\n",
    "        *   The intrinsic value of an option is the value it would have if it expired immediately.\n",
    "    *   An American option cannot have a negative time value.\n",
    "        *   The time value of an option is the difference between the current option price and its intrinsic value.\n",
    "\n",
    "---\n",
    "\n"
   ]
  },
  {
   "cell_type": "markdown",
   "id": "e0cd48a5",
   "metadata": {},
   "source": [
    "### Factors Affecting Option Prices\n",
    "\n",
    "*   Option Prices and the Exercise Date\n",
    "    *   An American option with a later exercise date cannot be worth less than an otherwise identical American option with an earlier exercise date.\n",
    "    *   A European option with a later exercise date may potentially trade for less than an otherwise identical option with an earlier exercise date.\n",
    "*   Option Prices and Volatility\n",
    "    *   The value of an option generally increases with the volatility of the stock.\n",
    "        *   An increase in volatility increases the likelihood of very high and very low returns for the stock.\n",
    "        *   The holder of a call option benefits from a higher payoff when the stock goes up and the option is in-the-money, but earns the same (zero) payoff no matter how far the stock drops once the option is out-of-the-money.\n",
    "        *   Insurance is more valuable when there is higher volatility—hence put options on more volatile stocks are also worth more.\n",
    "\n",
    "---\n",
    "\n"
   ]
  },
  {
   "cell_type": "markdown",
   "id": "875df7a6",
   "metadata": {},
   "source": [
    "### Exercising Options Early\n",
    "\n",
    "*   Non-Dividend-Paying Stocks\n",
    "    $$C = P + S - PV(K) \\quad \\text{If} \\quad PV(K) = K - dis(K)$$\n",
    "    $$C = \\frac{S-K}{\\text{Intrinsic Value}} + \\frac{dis(K) + P}{\\text{Time Value}}$$\n",
    "    where $dis(K)$ is the amount of the discount from face value to account for interest.\n",
    "    *   The price of any call option on a non-dividend-paying stock always exceeds its intrinsic value.\n",
    "    *   It is never optimal to exercise a call option on a non-dividend paying stock early.\n",
    "    *   Always better off just selling the option.\n",
    "    *   An American call on a non-dividend-paying stock has the same price as its European counterpart.\n",
    "    *   Under certain circumstances, exercising an American put option on a non-dividend-paying stock might make sense.\n",
    "    $$P = \\frac{K-S}{\\text{Intrinsic Value}} + \\frac{C - dis(K)}{\\text{Time Value}}$$\n",
    "    *   The European put may sell for less than its intrinsic value.\n",
    "    *   American put cannot sell for less than its intrinsic value.\n",
    "    *   The American option can be worth more than an otherwise identical European option.\n",
    "\n",
    "---\n",
    "\n"
   ]
  },
  {
   "cell_type": "markdown",
   "id": "ce8fffa3",
   "metadata": {},
   "source": [
    "### Exercising Options Early\n",
    "\n",
    "*   Dividend-Paying Stocks\n",
    "    $$C = P + S - PV(Div) – PV(K) \\quad \\text{If} \\quad PV(K) = K - dis(K)$$\n",
    "    $$C = \\frac{S-K}{\\text{Intrinsic Value}} + \\frac{dis(K) + P – PV(Div)}{\\text{Time Value}}$$\n",
    "    where $dis(K)$ is the amount of the discount from face value to account for interest.\n",
    "    *   If $PV(Div)$ is large enough, the time value of a European call option can be negative.\n",
    "    *   The price of the American option can exceed the price of a European option.\n",
    "        *   When a company pays a dividend, investors expect the price of the stock to drop to reflect the cash paid out.\n",
    "        *   This price drop hurts the owner of a call option because the stock price falls.\n",
    "        *   By exercising early, the owner of the call option can capture the value of the dividend.\n",
    "    $$P = \\frac{K-S}{\\text{Intrinsic Value}} + \\frac{C – dis(K) + PV(Div)}{\\text{Time Value}}$$\n",
    "    *   Dividends reduce the likelihood of early exercise of a put.\n",
    "    *   The likelihood of early exercise increases whenever the stock goes ex-dividend.\n",
    "\n",
    "---\n",
    "\n"
   ]
  },
  {
   "cell_type": "markdown",
   "id": "f97a73b1",
   "metadata": {},
   "source": [
    "### Exercising Options Early\n",
    "\n",
    "*   The stock of Harford Inc. is about to pay a $0.30 dividend. It will pay no more dividends for the next month. Consider call options that expire in one month. If the interest rate is 6% APR (monthly compounding), what is the maximum strike price where it could be possible that early exercise of the call option is optimal?\n",
    "    $$C = \\frac{S-K}{\\text{Intrinsic Value}} + \\frac{dis(K) + P – PV(Div)}{\\text{Time Value}}$$\n",
    "    $$dis(K) – PV(Div) < dis(K) + P – PV(Div) < 0$$\n",
    "    $$K – K(1 + 0.005)^{-1} < 0.30 \\rightarrow K < 60.30$$\n",
    "*   Suppose the S&P 500 is at 2700, and it will pay a dividend of $90 at the end of the year. Suppose also that the interest rate is 2%. If a one-year European put option has a negative time value, what is the lowest possible strike price it could have?\n",
    "    $$P = \\frac{K-S}{\\text{Intrinsic Value}} + \\frac{C – dis(K) + PV(Div)}{\\text{Time Value}}$$\n",
    "    $$PV(Div) – dis(K) < C - dis(K) + PV(Div) < 0$$\n",
    "    $$\\frac{90}{(1.02)} < K – K(1 + 0.02)^{-1} \\rightarrow K > 4,500$$\n",
    "\n",
    "---\n",
    "\n"
   ]
  },
  {
   "cell_type": "markdown",
   "id": "633b04ef",
   "metadata": {},
   "source": [
    "### Options and Corporate Finance\n",
    "\n",
    "*   Equity as a Call Option\n",
    "    *   Residual claim\n",
    "        *   Value of the firm's assets exceeds the required debt payment.\n",
    "        *   Value of the firm's assets is less than the required debt payment.\n",
    "*   Debt as an Option Portfolio\n",
    "    *   The payoff to debt can be viewed as,\n",
    "        *   The firm's assets, less the equity call option.\n",
    "        *   A risk-free bond, less a put option on the assets with a strike price equal to the required debt payment.\n",
    "    Risky debt = Risk-free debt - Put option on firm assets\n",
    "    Risk-free debt = Risky debt + Put option on firm assets\n",
    "\n",
    "---\n",
    "\n"
   ]
  },
  {
   "cell_type": "markdown",
   "id": "4f9a9acb",
   "metadata": {},
   "source": [
    "### Pricing Risky Debt\n",
    "\n",
    "*   As of September 2012, Google (GOOG) had no debt. Suppose the firm's managers consider recapitalizing the firm by issuing zero-coupon debt with a face value of $163.5 billion due in January of 2014, and using the proceeds to pay a special dividend. Suppose too that Google had 327 million shares outstanding, trading at $700.77 per share, implying a market value of $229.2 billion. The risk-free rate is 0.25%. The current value of a call option with a strike price of $500 is $222.05 per share. Estimate the credit spread Google would have to pay on the debt assuming perfect capital markets.\n",
    "    *   Assuming perfect capital markets, the total value of Google's equity and debt should remain unchanged after the recapitalization.\n",
    "    *   The $163.5 billion face value of the debt is equivalent to a claim of $163.5 billion/(327 million shares) = $500 per share on Google's current assets.\n",
    "    *   Total value of the equity after recap\n",
    "        *   P(Call option with K=500) * Shares Outstanding\n",
    "        *   $222.05 * 327 million shares = $72.6 billion\n",
    "    *   Value of the new debt=Total Value-Equity Value\n",
    "        *   229.2 - 72.6 = $156.6\n",
    "    $$PV(Debt) = \\frac{FV(Debt)}{(1+r)^t} \\rightarrow 156.6 = \\frac{163.5}{(1+r)^{16/12}}$$\n",
    "    $$r = \\left(\\frac{163.5}{156.6}\\right)^{12/16} - 1 = 3.29\\%$$\n",
    "    $$Spread = 3.29\\% - 0.25\\%$$\n",
    "\n",
    "---\n",
    "\n"
   ]
  },
  {
   "cell_type": "markdown",
   "id": "1aabc7a0",
   "metadata": {},
   "source": [
    "### Exercises\n",
    "\n",
    "*   You own a call option on Intuit stock with a strike price of $40. The option will expire in exactly three months' time.\n",
    "    *   If the stock is trading at $55 in three months, what will be the payoff of the call?\n",
    "    *   If the stock is trading at $35 in three months, what will be the payoff of the call?\n",
    "    *   Payoff diagram?\n",
    "    $$Payoff = \\begin{cases} \\max(S_T - K, 0) & \\text{if } S_T = 55 \\\\ \\max(S_T - K, 0) & \\text{if } S_T = 35 \\end{cases}$$\n",
    "    $$Payoff = \\begin{cases} \\max(55 - 40, 0) = 15 \\\\ \\max(35 - 40, 0) = 0 \\end{cases}$$\n",
    "\n",
    "---\n",
    "\n"
   ]
  },
  {
   "cell_type": "markdown",
   "id": "11a1ffa1",
   "metadata": {},
   "source": [
    "### Exercises\n",
    "\n",
    "*   You wrote a call option on Intuit stock with a strike price of $40. The option will expire in exactly three months' time.\n",
    "    *   If the stock is trading at $55 in three months, what will be the payoff of the call?\n",
    "    *   If the stock is trading at $35 in three months, what will be the payoff of the call?\n",
    "    *   Payoff diagram?\n",
    "    $$Payoff = \\begin{cases} -\\max(S_T - K, 0) & \\text{if } S_T = 55 \\\\ -\\max(S_T - K, 0) & \\text{if } S_T = 35 \\end{cases}$$\n",
    "    $$Payoff = \\begin{cases} -\\max(55 - 40, 0) = -15 \\\\ -\\max(35 - 40, 0) = 0 \\end{cases}$$\n",
    "\n",
    "---\n",
    "\n"
   ]
  },
  {
   "cell_type": "markdown",
   "id": "369747b9",
   "metadata": {},
   "source": [
    "### Exercises\n",
    "\n",
    "*   You own a put option on Ford stock with a strike price of $10. The option will expire in exactly six months' time.\n",
    "    *   If the stock is trading at $8 in six months, what will be the payoff of the put?\n",
    "    *   If the stock is trading at $20 in six months, what will be the payoff of the put?\n",
    "    *   Payoff diagram?\n",
    "    $$Payoff = \\begin{cases} \\max(K - S_T, 0) & \\text{if } S_T = 8 \\\\ \\max(K - S_T, 0) & \\text{if } S_T = 20 \\end{cases}$$\n",
    "    $$Payoff = \\begin{cases} \\max(10 - 8, 0) = 2 \\\\ \\max(10 - 20, 0) = 0 \\end{cases}$$\n",
    "\n",
    "---\n",
    "\n"
   ]
  },
  {
   "cell_type": "markdown",
   "id": "c3f4016c",
   "metadata": {},
   "source": [
    "### Exercises\n",
    "\n",
    "*   You wrote a put option on Ford stock with a strike price of $10. The option will expire in exactly six months' time.\n",
    "    *   If the stock is trading at $8 in six months, what will be the payoff of the put?\n",
    "    *   If the stock is trading at $20 in six months, what will be the payoff of the put?\n",
    "    *   Payoff diagram?\n",
    "    $$Payoff = \\begin{cases} -\\max(K - S_T, 0) & \\text{if } S_T = 8 \\\\ -\\max(K - S_T, 0) & \\text{if } S_T = 20 \\end{cases}$$\n",
    "    $$Payoff = \\begin{cases} -\\max(10 - 8, 0) = -2 \\\\ -\\max(10 - 20, 0) = 0 \\end{cases}$$\n",
    "\n",
    "---\n",
    "\n"
   ]
  },
  {
   "cell_type": "markdown",
   "id": "9767c5e0",
   "metadata": {},
   "source": [
    "### Exercises\n",
    "\n",
    "*   What position has more downside exposure: a short position in a call or a short position in a put?\n",
    "    $$-\\max(S_T – K, 0) \\quad \\text{vs.} \\quad -\\max(K – S_T, 0)$$\n",
    "\n",
    "---\n",
    "\n"
   ]
  },
  {
   "cell_type": "markdown",
   "id": "012192ff",
   "metadata": {},
   "source": [
    "### Exercises\n",
    "\n",
    "*   Dynamic Energy Systems stock is currently trading for $31 per share. The stock pays no dividends. A one-year European put option on Dynamic with a strike price of $41 is currently trading for $10.24. If the risk-free interest rate is 3% per year, what is the price of a one-year European call option on Dynamic with a strike price of $41?\n",
    "    $$C = S_0 + P - \\frac{K}{(1+r_f)^T} = 31 + 10.24 - \\frac{41}{(1 + 0.03)^1} = \\$1.4342$$\n",
    "*   A put option and a call option with an exercise price of $55 expire in two months and sell for $2.65 and $5.32, respectively. If the stock is currently priced at $57.30, what is the annual continuously compounded rate of interest?\n",
    "    $$C = S_0 + P - Ke^{-rT}$$\n",
    "    $$5.32 = 57.30 + 2.65 – 55e^{-r \\times (\\frac{2}{12})}$$\n",
    "    $$r = 4.05\\%$$\n",
    "\n",
    "---\n",
    "\n"
   ]
  },
  {
   "cell_type": "markdown",
   "id": "cd476c90",
   "metadata": {},
   "source": [
    "### Exercises\n",
    "\n",
    "*   The current stock price of Intrawest is $20 per share and the one-year risk-free interest rate is 8%. A one-year put on Intrawest with a strike price of $18 sells for $3.33, while the identical call sells for $7.\n",
    "    *   Is there an arbitrage opportunity?\n",
    "    *   What must you do to exploit this arbitrage opportunity?\n",
    "    $$C = S_0 + P - \\frac{K}{(1+r_f)^T} = 20 + 3.33 - \\frac{18}{(1 + 0.08)^1} = \\$6.67 < \\$7$$\n",
    "    *   Calls are equivalent to long positions in puts, buying the underlying asset and (partially) financing the purchases by borrowing the PV of the strike price of the options.\n",
    "    *   So, sell a call @$7, borrow PV(K=18), buy the stock @$20, buy a put @$3.33\n",
    "\n",
    "| | Today | @Expiration if $S_T \\le K$ | @Expiration if $S_T > K$ |\n",
    "| :---------------- | :------ | :------------------------- | :------------------------- |\n",
    "| Sell Call | +7 | 0 | $-(S_T - K)$ |\n",
    "| Borrow PV(K) | +16.67 | -K | -K |\n",
    "| Buy Stock @ $20 | -20 | $S_T$ | $S_T$ |\n",
    "| Buy Put | -3.33 | $(K - S_T)$ | 0 |\n",
    "| **Overall** | **0.3367** | **0** | **0** |\n",
    "\n",
    "---\n",
    "\n"
   ]
  },
  {
   "cell_type": "markdown",
   "id": "9d38860f",
   "metadata": {},
   "source": [
    "### Exercises\n",
    "\n",
    "*   LNUX's stock is currently trading for $4.59. There are puts and calls traded on LNUX. In particular, you know that a call option with a strike of $4.25 which matures one year from today is trading in the market for $0.85. The risk-free rate is 5% (in annual terms).\n",
    "    *   What should the put trade at if there are no arbitrage opportunities?\n",
    "    *   If the put was trading at $0.20, how could you construct an arbitrage strategy? Assume you can take long or short positions at the given prices, as well as lend or borrow at the risk-free rate.\n",
    "    *   If the put was trading at $0.40, how could you construct an arbitrage strategy?\n",
    "    $$P = C - S_0 + \\frac{K}{(1+r_f)^T} = 0.85 – 4.59 + \\frac{4.25}{(1 + 0.05)^1} = \\$0.3076$$\n",
    "    If the put was trading at $0.20, then it is cheap.\n",
    "\n",
    "| | Today | @Expiration if $S_T \\le K$ | @Expiration if $S_T > K$ |\n",
    "| :---------------- | :------ | :------------------------- | :------------------------- |\n",
    "| Buy Put | -0.20 | $(K - S_T)$ | 0 |\n",
    "| Borrow PV(K) | +4.0476 | -K | -K |\n",
    "| Buy Stock @ $4.59 | -4.59 | $S_T$ | $S_T$ |\n",
    "| Sell Call | +0.85 | 0 | $-(S_T - K)$ |\n",
    "| **Overall** | **0.1076** | **0** | **0** |\n",
    "\n",
    "---\n",
    "\n"
   ]
  },
  {
   "cell_type": "markdown",
   "id": "899a968a",
   "metadata": {},
   "source": [
    "### Exercises\n",
    "\n",
    "*   LNUX's stock is currently trading for $4.59. There are puts and calls traded on LNUX. In particular, you know that a call option with a strike of $4.25 which matures one year from today is trading in the market for $0.85. The risk-free rate is 5% (in annual terms).\n",
    "    *   What should the put trade at if there are no arbitrage opportunities?\n",
    "    *   If the put was trading at $0.20, how could you construct an arbitrage strategy? Assume you can take long or short positions at the given prices, as well as lend or borrow at the risk-free rate.\n",
    "    *   If the put was trading at $0.40, how could you construct an arbitrage strategy?\n",
    "    $$P = C - S_0 + \\frac{K}{(1+r_f)^T} = 0.85 – 4.59 + \\frac{4.25}{(1 + 0.05)^1} = \\$0.3076$$\n",
    "    If the put was trading at $0.40, then it is expensive.\n",
    "\n",
    "| | Today | @Expiration if $S_T \\le K$ | @Expiration if $S_T > K$ |\n",
    "| :---------------- | :------ | :------------------------- | :------------------------- |\n",
    "| Sell Put | +0.40 | $-(K - S_T)$ | 0 |\n",
    "| Sell Stock @ $4.59 | +4.59 | $-S_T$ | $-S_T$ |\n",
    "| Lend PV(K) | -4.0476 | +K | +K |\n",
    "| Buy Call | -0.85 | 0 | $(S_T - K)$ |\n",
    "| **Overall** | **0.0924** | **0** | **0** |\n",
    "\n",
    "---\n",
    "\n"
   ]
  },
  {
   "cell_type": "markdown",
   "id": "8857baa0",
   "metadata": {},
   "source": [
    "### Exercises\n",
    "\n",
    "*   AGE Corp shares are currently trading at $83. Risk-free rate is 6% per year, compounded continuously. Consider options on AGE Corp stock with an exercise price of $80 and 6 month to maturity. Current price of a put is $8.13.\n",
    "    *   What is the intrinsic value of the call option? Of the put option?\n",
    "    *   What is the time value of the call option? Of the put option?\n",
    "    $$C = \\frac{S-K}{\\text{Intrinsic Value}} + \\frac{dis(K) + P}{\\text{Time Value}}$$\n",
    "    $$P = \\frac{K-S}{\\text{Intrinsic Value}} + \\frac{C - dis(K)}{\\text{Time Value}}$$\n",
    "    $$C_{Intrinsic} = \\max[S – K, 0] = 3$$\n",
    "    $$P_{Intrinsic} = \\max[K – S, 0] = 0$$\n",
    "    $$C = S_0 + P - Ke^{-rT} = 83 + 8.13 – 80 \\times e^{-0.06 \\times 0.5} = \\$13.49$$\n",
    "    $$C_{Time} = dis(K) + P = K – Ke^{-rT} + P = \\$10.49$$\n",
    "    $$P_{Time} = P - P_{Intrinsic} = \\$8.13$$\n",
    "*   Suppose the S&P 500 is at 889, and a one-year European call option with a strike price of $429 has a negative time value. If the interest rate is 6%, what can you conclude about the dividend yield of the S&P 500? (Assume all dividends are paid at the end of the year.)\n",
    "    $$C = \\frac{S-K}{\\text{Intrinsic Value}} + \\frac{dis(K) + P – PV(Div)}{\\text{Time Value}}$$\n",
    "    $$dis(K) – PV(Div) < dis(K) + P – PV(Div) < 0$$\n",
    "    $$429 – 429(1.06)^{-1} < PV(Div) \\rightarrow PV(Div) > \\$24.28$$\n",
    "    $$Dividend \\ Yield > (24.28 \\times 1.06)/889 = 2.90\\%$$\n",
    "\n",
    "---\n",
    "\n"
   ]
  },
  {
   "cell_type": "markdown",
   "id": "23740e57",
   "metadata": {},
   "source": [
    "### Exercises\n",
    "\n",
    "*   Use the option data from July 13, 2009, in the following table to determine the rate Google would have paid if it had issued $128 billion in zero-coupon debt due in January 2011. Suppose Google currently had 320 million shares outstanding, implying a market value of $135.1 billion. The risk-free rate is 1.00%. (Assume perfect capital markets.)\n",
    "\n",
    "| GOOG | 422.27 +7.87 | Vol 2177516 | |\n",
    "| :-------------- | :---------- | :---------- | :-------- |\n",
    "| Jul 13 2009 @ 13:10 ET | | | |\n",
    "| Calls | Bid | Ask | Open Int |\n",
    "| 11 Jan 150.0 (OZF AJ) | 273.60 | 276.90 | 100 |\n",
    "| 11 Jan 160.0 (OZF AL) | 264.50 | 267.20 | 82 |\n",
    "| 11 Jan 200.0 (OZF AA) | 228.90 | 231.20 | 172 |\n",
    "| 11 Jan 250.0 (OZF AU) | 186.50 | 188.80 | 103 |\n",
    "| 11 Jan 280.0 (OZF AX) | 162.80 | 165.00 | 98 |\n",
    "| 11 Jan 300.0 (OZF AT) | 148.20 | 150.10 | 408 |\n",
    "| 11 Jan 320.0 (OZF AD) | 133.90 | 135.90 | 63 |\n",
    "| 11 Jan 340.0 (OZF AI) | 120.50 | 122.60 | 99 |\n",
    "| 11 Jan 350.0 (OZF AK) | 114.10 | 116.10 | 269 |\n",
    "| 11 Jan 360.0 (OZF AM) | 107.90 | 110.00 | 66 |\n",
    "| 11 Jan 380.0 (OZF AZ) | 95.80 | 98.00 | 88 |\n",
    "| 11 Jan 400.0 (OZF AU) | 85.10 | 87.00 | 2577 |\n",
    "| 11 Jan 420.0 (OUP AG) | 74.60 | 76.90 | 66 |\n",
    "| 11 Jan 450.0 (OUP AV) | 61.80 | 63.30 | 379 |\n",
    "\n",
    "*   Assuming perfect capital markets, the total value of Google's equity and debt should remain unchanged after the recapitalization.\n",
    "*   The $128.0 billion face value of the debt is equivalent to a claim of $128.0 billion/(320 million shares) = $400 per share on Google's current assets.\n",
    "*   Total value of the equity after recap\n",
    "    *   P(Call option with K=400) * Shares Outstanding\n",
    "    *   $86.05 * 320 million shares = $27.54 billion\n",
    "*   Value of the new debt=Total Value-Equity Value\n",
    "    *   135.1 - 27.54 = $107.56\n",
    "$$PV(Debt) = \\frac{FV(Debt)}{(1+r)^t} \\rightarrow 107.56 = \\frac{128.0}{(1+r)^{18/12}}$$\n",
    "$$r = \\left(\\frac{128}{107.56}\\right)^{12/18} - 1 = 12.3\\%$$\n",
    "$$Spread = 12.3\\% – 1.00\\%$$\n",
    "\n",
    "---\n",
    "\n"
   ]
  },
  {
   "cell_type": "markdown",
   "id": "ce22ad16",
   "metadata": {},
   "source": [
    "### What is next?\n",
    "*   Derivatives III\n",
    "    *   Binomial Option Pricing Model\n",
    "    *   Black-Scholes Option Pricing Model\n",
    "    *   Reading(s):\n",
    "        *   BKM: Ch. 21\n",
    "    *   Suggested Problems\n",
    "        *   Chapter 20: 6, 7, 8, 10, 20, 30\n",
    "\n",
    "---\n"
   ]
  }
 ],
 "metadata": {
  "kernelspec": {
   "display_name": "universal",
   "language": "python",
   "name": "python3"
  },
  "language_info": {
   "name": "python",
   "version": "3.12.9"
  }
 },
 "nbformat": 4,
 "nbformat_minor": 5
}
