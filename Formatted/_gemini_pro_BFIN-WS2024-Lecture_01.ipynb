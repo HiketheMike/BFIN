{
 "cells": [
  {
   "cell_type": "markdown",
   "id": "3a0985d6",
   "metadata": {},
   "source": [
    "\n",
    "***Investments Finance 2 - BFIN***\n",
    "\n",
    "**Dr. Omer Cayirli**\n",
    "\n",
    "Lecturer in Empirical Finance\n",
    "\n",
    "omer.cayirli@vgu.edu.vn\n",
    "\n",
    "---\n",
    "\n"
   ]
  },
  {
   "cell_type": "markdown",
   "id": "ba96f9ce",
   "metadata": {},
   "source": [
    "## Lecture 01\n",
    "---"
   ]
  },
  {
   "cell_type": "markdown",
   "id": "fd6640f0",
   "metadata": {},
   "source": [
    "### Outline\n",
    "* Intro\n",
    "  * Content & Objectives\n",
    "  * Course Materials\n",
    "* Rules of the Game\n",
    "  * Expectations & Norms\n",
    "  * Attendance & Participation\n",
    "  * Grading\n",
    "* Lecture\n",
    "  * The Investment Environment; Asset Classes and Financial Instruments\n",
    "\n",
    "---\n",
    "\n"
   ]
  },
  {
   "cell_type": "markdown",
   "id": "7649e3d8",
   "metadata": {},
   "source": [
    "### Intro\n",
    "* Course Content\n",
    "  * The Investment Environment\n",
    "    * Asset Classes and Financial Instruments\n",
    "  * Fixed-Income Securities\n",
    "  * Portfolio Theory and Practice\n",
    "  * Asset Pricing Models\n",
    "    * Index Models and The Capital Asset Pricing Model\n",
    "    * Arbitrage Pricing Theory\n",
    "    * Multifactor Models of Risk and Return\n",
    "  * The Efficient Market Hypothesis\n",
    "    * Behavioral Finance\n",
    "    * Empirical Evidence on Security Returns\n",
    "  * Derivatives\n",
    "    * Futures, Forwards, and Swaps\n",
    "    * Option Markets and Option Valuation\n",
    "\n",
    "---\n",
    "\n"
   ]
  },
  {
   "cell_type": "markdown",
   "id": "4f2b8392",
   "metadata": {},
   "source": [
    "### Intro\n",
    "* Objectives\n",
    "  * The analytical tools and theoretical concepts necessary for\n",
    "    * Making good investment decisions,\n",
    "    * Understanding the paradigms by which financial securities are valued.\n",
    "  * The students should\n",
    "    * acquire basic professional and methodological skills in the field of financial economics.\n",
    "    * be able to name and explain the characteristics and modes of operation of the most important financial instruments and the respective financial markets.\n",
    "    * possess the knowledge to present the most important models for the analysis of financial instruments, their assumptions as well as their limitations and apply the models to practical examples.\n",
    "    * be capable of presenting, interpreting and applying simple risk management strategies for securities portfolios.\n",
    "  * In this context,\n",
    "    * The lectures will explore issues closely related to asset pricing, asset allocation, and risk management.\n",
    "\n",
    "---\n",
    "\n"
   ]
  },
  {
   "cell_type": "markdown",
   "id": "7ba5554e",
   "metadata": {},
   "source": [
    "### Intro\n",
    "* Course Materials\n",
    "  * Books\n",
    "    * BKM, Bodie, Z., A. Kane and A. Marcus, Investments, 2021, 12th edition, International Student Edition, McGraw-Hill.\n",
    "  * Lecture slides\n",
    "    * Before each class (without exercises)\n",
    "    * Updated after class (with exercises, if any).\n",
    "\n",
    "---\n",
    "\n"
   ]
  },
  {
   "cell_type": "markdown",
   "id": "3938bb38",
   "metadata": {},
   "source": [
    "### Rules\n",
    "* Expectations & Norms\n",
    "  * Be prepared for the class\n",
    "    * Assigned readings\n",
    "    * Previous class(es)\n",
    "  * Avoid scholastic offenses and adhere to the student conduct policies\n",
    "* Attendance\n",
    "  * Lectures will not be based solely on the book.\n",
    "  * Attendance and active class participation are important for achieving the learning goals.\n",
    "  * Students must comply with the University's attendance policy to earn credits for this course.\n",
    "  * Remember!: \"Late arrivals to class are disruptive.\"\n",
    "* Participation\n",
    "  * We will have interactive classes and you are expected to contribute.\n",
    "  * You cannot contribute if you don't attend and participate.\n",
    "  * Cold calls should be expected.\n",
    "\n",
    "---\n",
    "\n"
   ]
  },
  {
   "cell_type": "markdown",
   "id": "17af1ff0",
   "metadata": {},
   "source": [
    "### Rules\n",
    "* Grading\n",
    "  * Lecturer's approach\n",
    "    * Grading is just a tool for measuring your relative performance.\n",
    "    * Do not act grade oriented.\n",
    "    * Our main goal is to learn collectively.\n",
    "  * Assessment based on portfolio approach\n",
    "    * Class contribution\n",
    "    * Individual Assignment\n",
    "    * Group Assignment\n",
    "    * Final exam\n",
    "\n",
    "---\n",
    "\n"
   ]
  },
  {
   "cell_type": "markdown",
   "id": "390497d2",
   "metadata": {},
   "source": [
    "### Course Outline\n",
    "Questions?\n",
    "\n",
    "---\n",
    "\n"
   ]
  },
  {
   "cell_type": "markdown",
   "id": "3c880252",
   "metadata": {},
   "source": [
    "### The Investment Environment\n",
    "* Real Assets vs. Financial Assets\n",
    "  * Real Assets\n",
    "    * Have productive capacity\n",
    "  * Financial Assets\n",
    "    * Claims on real assets\n",
    "    * Do not contribute directly to productive capacity\n",
    "\n",
    "---\n",
    "\n"
   ]
  },
  {
   "cell_type": "markdown",
   "id": "4854fc5d",
   "metadata": {},
   "source": [
    "### Financial Assets\n",
    "* **Fixed-Income Securities**\n",
    "  Promises a fixed stream of income or a stream of income determined by a specified formula.\n",
    "* **Equity**\n",
    "  Represents ownership share in a corporation.\n",
    "* **Derivatives**\n",
    "  Provide payoffs that are determined by the prices of other assets.\n",
    "\n",
    "---\n",
    "\n"
   ]
  },
  {
   "cell_type": "markdown",
   "id": "caa54144",
   "metadata": {},
   "source": [
    "### The Investment Environment\n",
    "* Financial Markets and the Economy\n",
    "  * The Informational Role\n",
    "    * Stock prices reflect \"collective” assessment of a firm's current performance and future prospects.\n",
    "  * Consumption Timing\n",
    "    * Use securities to store wealth and transfer consumption to the future\n",
    "      * Store of wealth in financial assets\n",
    "      * Buying/selling in different life periods\n",
    "  * Allocation of Risk\n",
    "    * Allows investors to select securities consistent with their risk preferences\n",
    "      * From high to low (shares/bonds) to different categories of investors\n",
    "  * Corporate Governance\n",
    "    * Monitoring by large investors and security analysts\n",
    "    * Takeover threat\n",
    "\n",
    "---\n",
    "\n"
   ]
  },
  {
   "cell_type": "markdown",
   "id": "b371f200",
   "metadata": {},
   "source": [
    "### The Investment Environment\n",
    "* Financial Markets and the Economy\n",
    "  * Capital markets recognize and drive funds to the best ideas and enterprises.\n",
    "  * Markets facilitate the transfer of funds from those who seek a return on their assets to those who need capital to expand.\n",
    "  * Capital, raised through equity and debt, can be used to\n",
    "    * grow businesses,\n",
    "    * finance investments in new property, equipment, technology,\n",
    "    * fund infrastructure projects.\n",
    "  * Individuals and businesses can invest in securities to generate wealth.\n",
    "\n",
    "---\n",
    "\n"
   ]
  },
  {
   "cell_type": "markdown",
   "id": "ae0b99e4",
   "metadata": {},
   "source": [
    "### The Investment Environment\n",
    "* The Investment Process\n",
    "  * Asset allocation\n",
    "    * Choice among broad asset classes (stocks; bonds; commodities; real estate; etc.)\n",
    "  * Security selection\n",
    "    * Choice of securities within each asset class\n",
    "  * Portfolio: Collection of investment assets\n",
    "    * \"Top-down\" approach\n",
    "      * Asset allocation followed by security analysis\n",
    "    * \"Bottom-up” approach\n",
    "      * Investment based solely on the price-attractiveness\n",
    "      * Not much interest in asset allocation\n",
    "\n",
    "---\n",
    "\n"
   ]
  },
  {
   "cell_type": "markdown",
   "id": "1aaa3db3",
   "metadata": {},
   "source": [
    "### The Investment Environment\n",
    "* Competitive Markets\n",
    "  * Risk-Return Trade-Off\n",
    "    * Higher-risk assets are priced to offer higher expected returns than lower-risk assets\n",
    "    * Expected returns are compensation for accepting the discomfort of higher risk.\n",
    "  * Efficient Markets\n",
    "    * Prices quickly adjust to all relevant information\n",
    "    * There should be neither underpriced nor overpriced securities\n",
    "  * Passive Management\n",
    "    * Holding a highly diversified portfolio\n",
    "    * No attempt to find undervalued securities\n",
    "    * No attempt to time the market\n",
    "  * Active Management\n",
    "    * Finding mispriced securities\n",
    "    * Timing the market\n",
    "\n",
    "---\n",
    "\n"
   ]
  },
  {
   "attachments": {
    "image.png": {
     "image/png": "[encoded data removed]"
    }
   },
   "cell_type": "markdown",
   "id": "49645a7d",
   "metadata": {},
   "source": [
    "### Asset Classes and Financial Instruments\n",
    "* Fixed Income\n",
    "![image.png](attachment:image.png)\n",
    "* The Money Market\n",
    "  * Short-term\n",
    "  * Liquid\n",
    "  * Low risk\n",
    "* The Capital Market\n",
    "  * Long-Term\n",
    "  * Liquid\n",
    "  * Low risk (but not as low as the Money Market)\n",
    "\n",
    "---\n",
    "\n"
   ]
  },
  {
   "cell_type": "markdown",
   "id": "acc82734",
   "metadata": {},
   "source": [
    "### Asset Classes and Financial Instruments\n",
    "* Fixed Income\n",
    "  * The Money Market\n",
    "    * Treasury Bills\n",
    "    * Certificates of Deposit\n",
    "    * Commercial Paper\n",
    "    * Eurodollars\n",
    "    * Repos and Reverses\n",
    "    * Federal Funds\n",
    "    * The LIBOR Market\n",
    "    * Money Market Funds\n",
    "  * The Capital Market\n",
    "    * Treasury Notes and Bonds\n",
    "    * Inflation-Protected Treasury Bonds\n",
    "    * Federal Agency Debt\n",
    "    * International Bonds\n",
    "    * Municipal Bonds\n",
    "    * Corporate Bonds\n",
    "    * Asset-Backed Securities\n",
    "    * Mortgage-Backed Securities\n",
    "---\n",
    "\n",
    "\n"
   ]
  },
  {
   "cell_type": "markdown",
   "id": "7f366d84",
   "metadata": {},
   "source": [
    "### Asset Classes and Financial Instruments\n",
    "* Equity\n",
    "<img src=\"../Pictures/Slide 1/pic_2.png\" width=\"750\" height=\"300\">\n",
    "* Common stock\n",
    "  * Ownership\n",
    "  * Residual claim\n",
    "  * Limited liability\n",
    "* Preferred stock:\n",
    "  * Perpetuity (infinite-maturity bond)\n",
    "  * Fixed dividends (Like a bond)\n",
    "  * The firm retains discretion to make the dividend payments to the preferred stockholders\n",
    "  * Priority over common\n",
    "  * Tax treatment\n",
    "* American Depository Receipts (ADR)\n",
    "  * Certificates traded in U.S. markets that represent ownership in shares of a foreign company\n",
    "  * Makes it easier for foreign firms to satisfy U.S. security registration requirements\n",
    "\n",
    "---\n",
    "\n"
   ]
  },
  {
   "cell_type": "markdown",
   "id": "01ba30f1",
   "metadata": {},
   "source": [
    "### Asset Classes and Financial Instruments\n",
    "* Derivatives\n",
    "\n",
    "<img src=\"../Pictures/Slide 1/pic_3.png\" width=\"750\" height=\"300\">\n",
    "\n",
    "* A derivative is a security that gets its value from the value of another asset, such as commodity prices, bond and stock prices, or market index values\n",
    "  * Their values derive from the values of other assets.\n",
    "  * Also called contingent claims because their payoffs are contingent on the value of other values.\n",
    "* Options: Right to sell/buy\n",
    "* Futures/Forwards: Obligation to deliver/receive in exchange for cash\n",
    "\n",
    "---\n",
    "\n"
   ]
  },
  {
   "cell_type": "markdown",
   "id": "47005dda",
   "metadata": {},
   "source": [
    "### Asset Classes and Financial Instruments\n",
    "* Options\n",
    "  * A call option gives its holder the right to purchase an asset for a specified price, called the exercise or strike price, on or before a specified expiration date.\n",
    "  * A put option gives its holder the right to sell an asset for a specified exercise price on or before a specified expiration date.\n",
    "  * Options may or may not be exercised.\n",
    "* Futures/Forwards\n",
    "  * A futures contract calls for delivery of an asset (or, in some cases, its cash value) at a specified delivery or maturity date for an agreed-upon price, called the futures price, to be paid at contract maturity.\n",
    "    * The long position is held by the party who commits to purchasing the asset on the delivery date.\n",
    "    * The party who takes the short position commits to delivering the asset at contract maturity.\n",
    "\n",
    "---\n",
    "\n"
   ]
  },
  {
   "cell_type": "markdown",
   "id": "62d6deba",
   "metadata": {},
   "source": [
    "### Asset Classes and Financial Instruments\n",
    "\n",
    "<img src=\"../Pictures/Slide 1/pic_4.png\" width=\"750\" height=\"300\">\n",
    "\n",
    "### Debt Financing of Non-Financial Corporations\n",
    "Source: [2023 SIFMA Capital Markets Factbook](https://www.sifma.org/wp-content/uploads/2022/07/2023-SIFMA-Capital-Markets-Factbook.pdf)\n",
    "\n",
    "Note: As of 2022, China 2020; Economic activity defined as financing of non-financial corporations. Euro Area = 19 EU-member states using the Euro. Other financing, ex-China = insurance reserves, trade credits and trade advances; other financing, China = bankers' acceptances, FDI, other foreign A/D, misc. and errors; DCM = debt capital markets, corporate bonds only.\n",
    "\n",
    "---\n",
    "\n"
   ]
  },
  {
   "cell_type": "markdown",
   "id": "21e28e39",
   "metadata": {},
   "source": [
    "### Asset Classes and Financial Instruments\n",
    "<img src=\"../Pictures/Slide 1/pic_5.png\" width=\"750\" height=\"300\">\n",
    "\n",
    "\n",
    "\n",
    "Source: [2023 SIFMA Capital Markets Factbook](https://www.sifma.org/wp-content/uploads/2022/07/2023-SIFMA-Capital-Markets-Factbook.pdf)\n",
    "\n",
    "Note: DM = developed markets, EM = emerging markets, DM/EM exclude countries listed in the chart.\n",
    "\n",
    "---\n"
   ]
  },
  {
   "cell_type": "markdown",
   "id": "69164417",
   "metadata": {},
   "source": [
    "### Asset Classes and Financial Instruments\n",
    "### Global Derivatives Outstanding: $ Billions\n",
    "\n",
    "| | Exchange Traded | Over-the-Counter | Total |\n",
    "|---|-----------------|------------------|-------|\n",
    "| 2008 | 52,963.0 | 598,141.0 | 651,103.9 |\n",
    "| 2009 | 67,416.4 | 603,893.3 | 671,309.7 |\n",
    "| 2010 | 62,309.9 | 601,042.8 | 663,352.7 |\n",
    "| 2011 | 53,692.9 | 647,807.0 | 701,499.9 |\n",
    "| 2012 | 49,033.2 | 635,681.0 | 684,714.1 |\n",
    "| 2013 | 57,459.4 | 710,092.3 | 767,551.7 |\n",
    "| 2014 | 57,594.2 | 627,786.0 | 685,380.2 |\n",
    "| 2015 | 63,485.8 | 492,536.2 | 556,022.0 |\n",
    "| 2016 | 67,244.9 | 482,421.1 | 549,665.9 |\n",
    "| 2017 | 80,984.1 | 531,911.1 | 612,895.1 |\n",
    "| 2018 | 94,849.7 | 544,383.3 | 639,233.0 |\n",
    "| 2019 | 95,812.8 | 558,512.7 | 654,325.5 |\n",
    "| 2020 | 65,949.7 | 582,055.3 | 648,005.1 |\n",
    "| 2021 | 80,091.8 | 598,416.0 | 678,507.7 |\n",
    "| 2022 | 80,628.2 | 617,958.9 | 698,587.1 |\n",
    "| Average | 68,634.4 | 588,842.5 | 657,476.9 |\n",
    "| Y/Y Change | 0.7% | 3.3% | 3.0% |\n",
    "| 5Y CAGR | -3.2% | 2.6% | 1.8% |\n",
    "| 10Y CAGR | 3.4% | -1.4% | -0.9% |\n",
    "\n",
    "### Global Derivatives Outstanding: % Change Y/Y\n",
    "\n",
    "| | Exchange Traded | Over-the-Counter | Total |\n",
    "|---|-----------------|------------------|-------|\n",
    "| 2009 | 27.3% | 1.0% | 3.1% |\n",
    "| 2010 | -7.6% | -0.5% | -1.2% |\n",
    "| 2011 | -13.8% | 7.8% | 5.8% |\n",
    "| 2012 | -8.7% | -1.9% | -2.4% |\n",
    "| 2013 | 17.2% | 11.7% | 12.1% |\n",
    "| 2014 | 0.2% | -11.6% | -10.7% |\n",
    "| 2015 | 10.2% | -21.5% | -18.9% |\n",
    "| 2016 | 5.9% | -2.1% | -1.1% |\n",
    "| 2017 | 20.4% | 10.3% | 11.5% |\n",
    "| 2018 | 17.1% | 2.3% | 4.3% |\n",
    "| 2019 | 1.0% | 2.6% | 2.4% |\n",
    "| 2020 | -31.2% | 4.2% | -1.0% |\n",
    "| 2021 | 21.4% | 2.8% | 4.7% |\n",
    "| 2022 | 0.7% | 3.3% | 3.0% |\n",
    "\n",
    "### \n",
    "\n",
    "| Statistic | Column 1 | Column 2 | Column 3 |\n",
    "| :--- | :--- | :--- | :--- |\n",
    "| **Average** | 68,634.4 | 588,842.5 | 657,476.9 |\n",
    "| **Y/Y Change** | 0.7% | 3.3% | 3.0% |\n",
    "| **5Y CAGR** | -3.2% | 2.6% | 1.8% |\n",
    "| **10Y CAGR** | 3.4% | -1.4% | -0.9% |\n",
    "\n",
    "Source: [2023 SIFMA Capital Markets Factbook](https://www.sifma.org/wp-content/uploads/2022/07/2023-SIFMA-Capital-Markets-Factbook.pdf)\n",
    "\n",
    "Note: Includes interest rates, foreign exchange, equity linked, commodities, credit, and credit default swaps.\n",
    "\n",
    "---\n"
   ]
  },
  {
   "cell_type": "markdown",
   "id": "bdf88824",
   "metadata": {},
   "source": [
    "### Asset Classes and Financial Instruments\n",
    "<img src=\"../Pictures/Slide 1/pic_6.png\" width=\"750\" height=\"300\">\n",
    "\n",
    "\n",
    "\n",
    "Source: [2023 SIFMA Capital Markets Factbook](https://www.sifma.org/wp-content/uploads/2022/07/2023-SIFMA-Capital-Markets-Factbook.pdf)\n",
    "\n",
    "Note:  Long-term includes securities with maturity >13 months; global equity issuance includes non-convertible IPOs and follow-on equity deals, \n",
    "excludes preferred shares, rights issues, closed-end funds, business development companies, and special purpose acquisition companies \n",
    "\n",
    "---\n",
    "\n"
   ]
  },
  {
   "cell_type": "markdown",
   "id": "cdc39b7b",
   "metadata": {},
   "source": [
    "### Global Equity Issuance ($B)\n",
    "Source: 2023 SIFMA Capital Markets Factbook\n",
    "Note: Long-term includes securities with maturity >13 months; global equity issuance includes non-convertible IPOs and follow-on equity deals, excludes preferred shares, rights issues, closed-end funds, business development companies, and special purpose acquisition companies.\n",
    "\n",
    "---\n",
    "\n"
   ]
  },
  {
   "cell_type": "markdown",
   "id": "d678f16b",
   "metadata": {},
   "source": [
    "### Asset Classes and Financial Instruments\n",
    "\n",
    "---\n",
    "\n"
   ]
  },
  {
   "cell_type": "markdown",
   "id": "6bf62684",
   "metadata": {},
   "source": [
    "### International Security Offerings by All Issuers: $ Billions\n",
    "\n",
    "| | Straight Debt | Convertible Debt | Total Debt | Common Stock | Preferred Stock | Total Equity | Total |\n",
    "|---|---------------|------------------|------------|--------------|-----------------|--------------|-------|\n",
    "| 2008 | 1,804.3 | 53.6 | 1,858.0 | 272.3 | 10.7 | 283.0 | 2,140.9 |\n",
    "| 2009 | 2,568.0 | 55.5 | 2,623.6 | 396.1 | 13.7 | 409.8 | 3,033.4 |\n",
    "| 2010 | 2,335.5 | 51.9 | 2,387.4 | 365.6 | 6.6 | 372.2 | 2,759.7 |\n",
    "| 2011 | 2,263.9 | 36.4 | 2,300.3 | 235.1 | 10.5 | 245.7 | 2,546.0 |\n",
    "| 2012 | 2,695.1 | 44.0 | 2,739.0 | 236.2 | 15.6 | 251.7 | 2,990.8 |\n",
    "| 2013 | 2,736.0 | 54.8 | 2,790.8 | 307.2 | 8.3 | 315.5 | 3,106.3 |\n",
    "| 2014 | 3,082.9 | 56.1 | 3,139.0 | 351.2 | 15.6 | 366.8 | 3,505.8 |\n",
    "| 2015 | 2,534.8 | 38.4 | 2,573.2 | 393.6 | 14.4 | 408.0 | 2,981.2 |\n",
    "| 2016 | 2,640.8 | 42.3 | 2,683.1 | 225.5 | 7.3 | 232.8 | 2,915.9 |\n",
    "| 2017 | 3,164.6 | 35.6 | 3,200.2 | 348.6 | 24.1 | 372.6 | 3,572.8 |\n",
    "| 2018 | 2,729.9 | 31.8 | 2,761.7 | 293.2 | 8.2 | 301.4 | 3,063.1 |\n",
    "| 2019 | 3,025.4 | 70.3 | 3,095.7 | 286.9 | 6.2 | 293.1 | 3,388.8 |\n",
    "| 2020 | 3,571.2 | 131.5 | 3,702.7 | 390.4 | 6.3 | 396.7 | 4,099.5 |\n",
    "| 2021 | 3,712.4 | 137.1 | 3,849.6 | 525.1 | 10.5 | 535.6 | 4,385.2 |\n",
    "| 2022 | 2,571.3 | 51.8 | 2,623.1 | 194.5 | 2.6 | 197.2 | 2,820.2 |\n",
    "\n",
    "Source: 2023 SIFMA Capital Markets Factbook\n",
    "Note: Long-term includes securities with maturity >13 months; global equity issuance includes non-convertible IPOs and follow-on equity deals, excludes preferred shares, rights issues, closed-end funds, business development companies, and special purpose acquisition companies.\n",
    "\n",
    "---\n",
    "\n"
   ]
  },
  {
   "cell_type": "markdown",
   "id": "1bfd69ac",
   "metadata": {},
   "source": [
    "### Asset Classes and Financial Instruments\n",
    "\n",
    "---\n",
    "\n"
   ]
  },
  {
   "cell_type": "markdown",
   "id": "6d419345",
   "metadata": {},
   "source": [
    "### Major Global Stock Market Indexes: Local Currency Price\n",
    "\n",
    "| | US: S&P 500 | Canada: S&P/TSX | France: CAC 40 | Germany: DAX | Hong Kong: Hang Seng | Japan: Nikkei 225 | UK: FTSE 100 |\n",
    "|---|-------------|-----------------|----------------|--------------|----------------------|-------------------|--------------|\n",
    "| 2008 | 903.25 | 8,987.70 | 3,217.97 | 4,810.20 | 14,387.48 | 8,859.56 | 4,434.17 |\n",
    "| 2009 | 1,115.10 | 11,746.11 | 3,936.33 | 5,957.43 | 21,872.50 | 10,546.44 | 5,412.88 |\n",
    "| 2010 | 1,257.64 | 13,443.22 | 3,804.78 | 6,914.19 | 23,035.45 | 10,228.92 | 5,899.94 |\n",
    "| 2011 | 1,257.61 | 11,955.09 | 3,159.81 | 5,898.35 | 18,434.39 | 8,455.35 | 5,572.28 |\n",
    "| 2012 | 1,426.19 | 12,433.53 | 3,641.07 | 7,612.39 | 22,656.92 | 10,395.18 | 5,897.81 |\n",
    "| 2013 | 1,848.36 | 13,621.55 | 4,295.95 | 9,552.16 | 23,306.39 | 16,291.31 | 6,749.09 |\n",
    "| 2014 | 2,058.90 | 14,632.44 | 4,272.75 | 9,805.55 | 23,605.04 | 17,450.77 | 6,566.09 |\n",
    "| 2015 | 2,043.94 | 13,009.95 | 4,637.06 | 10,743.01 | 21,914.40 | 19,033.71 | 6,242.32 |\n",
    "| 2016 | 2,238.83 | 15,287.59 | 4,862.31 | 11,481.06 | 22,000.56 | 19,114.37 | 7,142.83 |\n",
    "| 2017 | 2,673.61 | 16,209.13 | 5,312.56 | 12,917.64 | 29,919.15 | 22,764.94 | 7,687.77 |\n",
    "| 2018 | 2,506.85 | 14,322.86 | 4,730.69 | 10,558.96 | 25,845.70 | 20,014.77 | 6,728.13 |\n",
    "| 2019 | 3,230.78 | 17,063.43 | 5,978.06 | 13,249.01 | 28,189.75 | 23,656.62 | 7,542.44 |\n",
    "| 2020 | 3,756.07 | 17,433.36 | 5,551.41 | 13,718.78 | 27,231.13 | 27,444.17 | 6,460.52 |\n",
    "| 2021 | 4,766.18 | 21,222.84 | 7,153.03 | 15,884.86 | 23,397.67 | 28,791.71 | 7,384.54 |\n",
    "| 2022 | 3,839.50 | 19,384.92 | 6,473.76 | 13,923.59 | 19,781.41 | 26,094.50 | 7,451.74 |\n",
    "| Average | 2,328.19 | 14,716.91 | 4,735.17 | 10,201.81 | 23,038.53 | 17,942.82 | 6,478.17 |\n",
    "| Y/Y Change | -19.4% | -8.7% | -9.5% | -12.3% | -15.5% | -9.4% | 0.9% |\n",
    "| 5Y CAGR | 7.5% | 3.6% | 4.0% | 1.5% | -7.9% | 2.8% | -0.6% |\n",
    "| 10Y CAGR | 10.4% | 4.5% | 5.9% | 6.2% | -1.3% | 9.6% | 2.4% |\n",
    "\n",
    "Source: 2023 SIFMA Capital Markets Factbook\n",
    "\n",
    "---\n",
    "\n"
   ]
  },
  {
   "cell_type": "markdown",
   "id": "50d80f4f",
   "metadata": {},
   "source": [
    "### Asset Classes and Financial Instruments\n",
    "\n",
    "---\n",
    "\n"
   ]
  },
  {
   "cell_type": "markdown",
   "id": "63b55ea6",
   "metadata": {},
   "source": [
    "### Major Global Stock Market Indexes: % Change Y/Y\n",
    "\n",
    "| | US: S&P 500 | Canada: S&P/TSX | France: CAC 40 | Germany: DAX | Hong Kong: Hang Seng | Japan: Nikkei 225 | UK: FTSE 100 |\n",
    "|---|-------------|-----------------|----------------|--------------|----------------------|-------------------|--------------|\n",
    "| 2009 | 23.5% | 30.7% | 22.3% | 23.8% | 52.0% | 19.0% | 22.1% |\n",
    "| 2010 | 12.8% | 14.4% | -3.3% | 16.1% | 5.3% | -3.0% | 9.0% |\n",
    "| 2011 | 0.0% | -11.1% | -17.0% | -14.7% | -20.0% | -17.3% | -5.6% |\n",
    "| 2012 | 13.4% | 4.0% | 15.2% | 29.1% | 22.9% | 22.9% | 5.8% |\n",
    "| 2013 | 29.6% | 9.6% | 18.0% | 25.5% | 2.9% | 56.7% | 14.4% |\n",
    "| 2014 | 11.4% | 7.4% | -0.5% | 2.7% | 1.3% | 7.1% | -2.7% |\n",
    "| 2015 | -0.7% | -11.1% | 8.5% | 9.6% | -7.2% | 9.1% | -4.9% |\n",
    "| 2016 | 9.5% | 17.5% | 4.9% | 6.9% | 0.4% | 0.4% | 14.4% |\n",
    "| 2017 | 19.4% | 6.0% | 9.3% | 12.5% | 36.0% | 19.1% | 7.6% |\n",
    "| 2018 | -6.2% | -11.6% | -11.0% | -18.3% | -13.6% | -12.1% | -12.5% |\n",
    "| 2019 | 28.9% | 19.1% | 26.4% | 25.5% | 9.1% | 18.2% | 12.1% |\n",
    "| 2020 | 16.3% | 2.2% | -7.1% | 3.5% | -3.4% | 16.0% | -14.3% |\n",
    "| 2021 | 26.9% | 21.7% | 28.9% | 15.8% | -14.1% | 4.9% | 14.3% |\n",
    "| 2022 | -19.4% | -8.7% | -9.5% | -12.3% | -15.5% | -9.4% | 0.9% |\n",
    "\n",
    "Source: 2023 SIFMA Capital Markets Factbook\n",
    "\n",
    "---\n",
    "\n"
   ]
  },
  {
   "cell_type": "markdown",
   "id": "045b2722",
   "metadata": {},
   "source": [
    "### Asset Classes and Financial Instruments\n",
    "* Which of the following correctly describes a repurchase agreement?\n",
    "\n",
    "  a. The sale of a security with a commitment to repurchase the same security at a specified future date and a designated price.\n",
    "\n",
    "  b. The sale of a security with a commitment to repurchase the same security at a future date left unspecified, at a designated price.\n",
    "\n",
    "  c. The purchase of a security with a commitment to purchase more of the same security at a specified future date.\n",
    "  \n",
    "* What would you expect to happen to the spread between yields on commercial paper and Treasury bills if the economy were to enter a steep recession?\n",
    "* Assuming that all other relevant features of the stocks and options are identical, which security should sell at a greater price?\n",
    "  * A 10-year Treasury bond with a 4% coupon rate versus a 10-year T-bond with a 5% coupon.\n",
    "  * A 3-month expiration call option with an exercise price of $40 versus a 3-month call on the same stock with an exercise price of $35.\n",
    "  * A put option on a stock selling at $50 or a put option on another stock selling at $60.\n",
    "\n",
    "---\n",
    "\n"
   ]
  },
  {
   "cell_type": "markdown",
   "id": "2588a5c7",
   "metadata": {},
   "source": [
    "### Asset Classes and Financial Instruments\n",
    "* Why do call options with exercise prices greater than the price of the underlying stock sell for positive prices?\n",
    "* Both a call and a put currently are traded on stock XYZ; both have strike prices of $50 and expirations of 6 months. What will be the profit to an investor who buys the call for $4 in the following scenarios for stock prices in 6 months? What will be the profit in each scenario to an investor who buys the put for $6?\n",
    "\n",
    "  a. $40\n",
    "\n",
    "  b. $45\n",
    "\n",
    "  c. $50\n",
    "\n",
    "  d. $55\n",
    "  \n",
    "  e. $60\n",
    "* What is the difference between a put option and a short position in a futures contract?\n",
    "* What is the difference between a call option and a long position in a futures contract?\n",
    "\n",
    "---\n",
    "\n"
   ]
  },
  {
   "cell_type": "markdown",
   "id": "dc592f41",
   "metadata": {},
   "source": [
    "### Asset Classes and Financial Instruments\n",
    "* What are the key differences between common stock, preferred stock, and corporate bonds?\n",
    "\n",
    "| | Corp. Bonds | Preferred Stock | Common Stock |\n",
    "|:---|:---|:---|:---|\n",
    "| Voting Rights (Typically) | | | Yes |\n",
    "| Contractual Obligation | Yes | | |\n",
    "| Perpetual Payments | | Yes | Yes |\n",
    "| Accumulated Dividends | | Yes | |\n",
    "| Fixed Payments (Typically) | Yes | Yes | |\n",
    "| Payment Preference | First | Second | Third |\n",
    "\n",
    "---\n",
    "\n"
   ]
  },
  {
   "cell_type": "markdown",
   "id": "897a40f9",
   "metadata": {},
   "source": [
    "### Asset Classes and Financial Instruments\n",
    "* Lanni Products is a start-up computer software development firm. It currently owns computer equipment worth $30,000 and has cash on hand of $20,000 contributed by Lanni's owners. For each of the following transactions, identify the real and/or financial assets that trade hands. Are any financial assets created or destroyed in the transaction?\n",
    "  * Lanni takes out a bank loan. It receives $50,000 in cash and signs a note promising to pay back the loan over 3 years.\n",
    "  * Lanni uses the cash from the bank plus $20,000 of its own funds to finance the development of new financial planning software.\n",
    "  * Lanni sells the software product to Microsoft, which will market it to the public under the Microsoft name. Lanni accepts payment in the form of 1,250 shares of Microsoft stock.\n",
    "  * Lanni sells the shares of stock for $100 per share and uses part of the proceeds to pay off the bank loan.\n",
    "* The average rate of return on investments in large stocks has outpaced that on investments in Treasury bills by about 8% since 1926. Why, then, does anyone invest in Treasury bills?\n",
    "* What are some advantages and disadvantages of top-down versus bottom-up investing styles?\n",
    "\n",
    "---\n",
    "\n"
   ]
  },
  {
   "cell_type": "markdown",
   "id": "ba723533",
   "metadata": {},
   "source": [
    "### What is next?\n",
    "* Fixed-Income Securities\n",
    "  * Readings: Ch. 14 & 15\n",
    "\n",
    "---\n"
   ]
  }
 ],
 "metadata": {
  "kernelspec": {
   "display_name": "universal",
   "language": "python",
   "name": "python3"
  },
  "language_info": {
   "name": "python",
   "version": "3.12.9"
  }
 },
 "nbformat": 4,
 "nbformat_minor": 5
}
